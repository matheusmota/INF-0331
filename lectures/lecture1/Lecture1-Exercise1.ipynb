{
 "cells": [
  {
   "cell_type": "markdown",
   "metadata": {},
   "source": [
    "# JavaBeans\n",
    "\n",
    "Main characteristics of a JavaBean:\n",
    "\n",
    "* Constructor withou arguments;\n",
    "* Properties;\n",
    "* Introspection;\n",
    "* Customization\n",
    "* Persistency\n",
    "* Events\n",
    "\n",
    "Examples below were extracted from the [@santanche/java2learn](https://github.com/santanche/java2learn) library\n"
   ]
  },
  {
   "cell_type": "markdown",
   "metadata": {},
   "source": [
    "### Declaring an interface:"
   ]
  },
  {
   "cell_type": "code",
   "execution_count": 1,
   "metadata": {},
   "outputs": [
    {
     "data": {
      "text/plain": [
       "pt.c08componentes.s10statistics.s03component.v01.IStatistics"
      ]
     },
     "execution_count": 1,
     "metadata": {},
     "output_type": "execute_result"
    }
   ],
   "source": [
    "package pt.c08componentes.s10statistics.s03component.v01;\n",
    "\n",
    "/**\n",
    " * Interface for a Statistics Class that registers a set of numbers\n",
    " * and calculates the sum and average of these numbers. \n",
    " * \n",
    " * @author Andre Santanche\n",
    " */\n",
    "public interface IStatistics {\n",
    "   /**\n",
    "    * Inserts a value into the set.\n",
    "    * @param value the value to be inserted into the set\n",
    "    */\n",
    "    public void insertValue(double value);\n",
    "\n",
    "    \n",
    "    /**\n",
    "     * Calculates the sum of the values in the set. Returns zero if the set is empty.\n",
    "     * @return sum of the values in the set\n",
    "     */\n",
    "    public double sum();\n",
    "  \n",
    "    \n",
    "    /**\n",
    "     * Calculates the average of the values in the set. Returns zero if the set is empty.\n",
    "     * @return average of the values in the set\n",
    "     */\n",
    "    public double average();\n",
    "}"
   ]
  },
  {
   "cell_type": "markdown",
   "metadata": {},
   "source": [
    "### Implementing the Interface"
   ]
  },
  {
   "cell_type": "code",
   "execution_count": 2,
   "metadata": {},
   "outputs": [
    {
     "data": {
      "text/plain": [
       "pt.c08componentes.s10statistics.s03component.v01.Statistics"
      ]
     },
     "execution_count": 2,
     "metadata": {},
     "output_type": "execute_result"
    }
   ],
   "source": [
    "package pt.c08componentes.s10statistics.s03component.v01;\n",
    "\n",
    "/**\n",
    " * Registers a set of numbers and calculates the sum and average of these numbers.\n",
    " * \n",
    " * @author Andre Santanche\n",
    " */\n",
    "public class Statistics implements IStatistics {\n",
    "   public final static int STANDARD_SIZE = 50;\n",
    "   \n",
    "   private double valueSet[];\n",
    "   private int last;\n",
    "   \n",
    "   /*\n",
    "    * Constructor\n",
    "    **************/\n",
    "\n",
    "   public Statistics()\n",
    "   {\n",
    "      this(STANDARD_SIZE);\n",
    "   }\n",
    "   \n",
    "   public Statistics(int size)\n",
    "   {\n",
    "       super();\n",
    "       valueSet = new double[size];\n",
    "       last = -1;\n",
    "   }\n",
    "\n",
    "   /*\n",
    "    * IStatistics Interface\n",
    "    ***********************/\n",
    "   \n",
    "   public void insertValue(double value)\n",
    "   {\n",
    "      if (last < valueSet.length) {\n",
    "        last++;\n",
    "        valueSet[last] = value;\n",
    "      }\n",
    "   }\n",
    "\n",
    "   public double sum()\n",
    "   {\n",
    "       double theSum = 0.0f;\n",
    "       \n",
    "       for (int p = 0; p <= last; p++)\n",
    "         theSum += valueSet[p];\n",
    "       \n",
    "       return theSum;\n",
    "   }\n",
    "\n",
    "   public double average()\n",
    "   {\n",
    "       double avg = 0;\n",
    "       \n",
    "       if (last > -1)\n",
    "         avg = sum() / (last + 1);\n",
    "       \n",
    "       return avg;\n",
    "   }\n",
    "}\n"
   ]
  },
  {
   "cell_type": "markdown",
   "metadata": {},
   "source": [
    "### Running the example (option1)"
   ]
  },
  {
   "cell_type": "code",
   "execution_count": 3,
   "metadata": {},
   "outputs": [
    {
     "name": "stdout",
     "output_type": "stream",
     "text": [
      "inserido valor: 50.0\n",
      "inserido valor: 70.0\n",
      "inserido valor: 30.0\n",
      "-- somatorio: 150.0\n",
      "-- media: 50.0\n"
     ]
    },
    {
     "data": {
      "text/plain": []
     },
     "execution_count": 3,
     "metadata": {},
     "output_type": "execute_result"
    }
   ],
   "source": [
    "import pt.c08componentes.s10statistics.s03component.v01.IStatistics;\n",
    "import pt.c08componentes.s10statistics.s03component.v01.Statistics;\n",
    "//or import pt.c08componentes.s10statistics.s03component.v01.*;\n",
    "\n",
    "try {\n",
    "    \n",
    "   IStatistics stat = new Statistics();\n",
    "\n",
    "   System.out.println(\"inserido valor: \" + 50.0f);\n",
    "   stat.insertValue(50.0f);\n",
    "   System.out.println(\"inserido valor: \" + 70.0f);\n",
    "   stat.insertValue(70.0f);\n",
    "   System.out.println(\"inserido valor: \" + 30.0f);\n",
    "   stat.insertValue(30.0f);\n",
    "\n",
    "   System.out.println(\"-- somatorio: \" + stat.sum());\n",
    "   System.out.println(\"-- media: \" + stat.average());\n",
    "    \n",
    "} catch (Exception e) {\n",
    "    \n",
    "   e.printStackTrace();\n",
    "}\n",
    "\n",
    "return \"\";\n"
   ]
  },
  {
   "cell_type": "markdown",
   "metadata": {},
   "source": [
    "### Running the example (option2)"
   ]
  },
  {
   "cell_type": "code",
   "execution_count": 4,
   "metadata": {},
   "outputs": [
    {
     "name": "stdout",
     "output_type": "stream",
     "text": [
      "inserido valor: 50.0\n",
      "inserido valor: 70.0\n",
      "inserido valor: 30.0\n",
      "-- somatorio: 150.0\n",
      "-- media: 50.0\n"
     ]
    },
    {
     "data": {
      "text/plain": []
     },
     "execution_count": 4,
     "metadata": {},
     "output_type": "execute_result"
    }
   ],
   "source": [
    "package pt.c08componentes.s10statistics.s03component.v01;\n",
    "\n",
    "try {\n",
    "    \n",
    "   IStatistics stat = new Statistics();\n",
    "\n",
    "   System.out.println(\"inserido valor: \" + 50.0f);\n",
    "   stat.insertValue(50.0f);\n",
    "   System.out.println(\"inserido valor: \" + 70.0f);\n",
    "   stat.insertValue(70.0f);\n",
    "   System.out.println(\"inserido valor: \" + 30.0f);\n",
    "   stat.insertValue(30.0f);\n",
    "\n",
    "   System.out.println(\"-- somatorio: \" + stat.sum());\n",
    "   System.out.println(\"-- media: \" + stat.average());\n",
    "    \n",
    "} catch (Exception e) {\n",
    "    \n",
    "   e.printStackTrace();\n",
    "\n",
    "}\n",
    "\n",
    "return \"\";\n"
   ]
  }
 ],
 "metadata": {
  "kernelspec": {
   "display_name": "Java",
   "language": "java",
   "name": "java"
  },
  "language_info": {
   "codemirror_mode": "text/x-java",
   "file_extension": ".java",
   "mimetype": "",
   "name": "Java",
   "nbconverter_exporter": "",
   "version": "1.8.0_181"
  }
 },
 "nbformat": 4,
 "nbformat_minor": 2
}
