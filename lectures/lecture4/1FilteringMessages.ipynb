{
 "cells": [
  {
   "cell_type": "markdown",
   "metadata": {},
   "source": [
    "## Connecting to MQTT"
   ]
  },
  {
   "cell_type": "code",
   "execution_count": null,
   "metadata": {},
   "outputs": [],
   "source": [
    "import paho.mqtt.client as paho\n",
    "import json\n",
    "from IPython.display import clear_output\n",
    "from IPython.core.display import display, HTML\n",
    "\n",
    "broker=\"iot.eclipse.org\" \n",
    "port=1883\n",
    "pub_topic=\"/news/all\"\n",
    "\n",
    "def on_publish(client,userdata,result):             #create function for callback\n",
    "    print(\"Message published!\")\n",
    "\n",
    "client1 = paho.Client(\"filter1\")                           #create client object\n",
    "client1.on_publish = on_publish                          #assign function to callback    \n",
    "\n",
    "if(not client1.connect(broker,port)):                              #establish connection\n",
    "    print(\"Connected.\")"
   ]
  },
  {
   "cell_type": "markdown",
   "metadata": {},
   "source": [
    "## Subscribing to /news/all"
   ]
  },
  {
   "cell_type": "code",
   "execution_count": null,
   "metadata": {},
   "outputs": [],
   "source": [
    "client1.subscribe((\"/news/all\"))"
   ]
  },
  {
   "cell_type": "markdown",
   "metadata": {},
   "source": [
    "## Structure of the JSON"
   ]
  },
  {
   "cell_type": "markdown",
   "metadata": {},
   "source": [
    "```json\n",
    "    {'title':   \"Titulo da noticia\",\n",
    "     'summary': \"Resumo da noticia\",\n",
    "     'link':    \"http://...\",\n",
    "     'source':  \"uol\",\n",
    "     'author':  \"Asdrubal\"\n",
    "     }\n",
    "```"
   ]
  },
  {
   "cell_type": "markdown",
   "metadata": {},
   "source": [
    "## Listening to all messages"
   ]
  },
  {
   "cell_type": "code",
   "execution_count": null,
   "metadata": {},
   "outputs": [],
   "source": [
    "def on_message(client, userdata, message):\n",
    "    \n",
    "    jsonObject = json.loads(str(message.payload.decode(\"utf-8\")))\n",
    "    \n",
    "    print(\"msg.topic:     {0}\"   .format(message.topic))\n",
    "    print(\"news.tite:     {0}\"   .format(jsonObject['title']))\n",
    "    print(\"news.source:   {0}\"   .format(jsonObject['source']))\n",
    "    print(\"news.author:   {0}\"   .format(jsonObject['author']))\n",
    "    print(\"news.approved: {0}\"   .format(jsonObject['approved']))\n",
    "    display(HTML(\"\"\"<a target=\"_blank\" href=\"{0}\">link</a>\"\"\".format(jsonObject['link'])))\n",
    "    clear_output(wait=True)\n",
    "\n",
    "    \n",
    "client1.on_message = on_message\n",
    "client1.loop_start()    #start the loop\n",
    "clear_output(wait=True)"
   ]
  },
  {
   "cell_type": "markdown",
   "metadata": {},
   "source": [
    "## Filtering by source (g1)"
   ]
  },
  {
   "cell_type": "code",
   "execution_count": null,
   "metadata": {},
   "outputs": [],
   "source": [
    "def on_message(client, userdata, message):\n",
    "    \n",
    "    jsonObject = json.loads(str(message.payload.decode(\"utf-8\")))\n",
    "    \n",
    "    if(jsonObject['source'] == \"g1\"):\n",
    "        print(\"msg.topic:     {0}\"   .format(message.topic))\n",
    "        print(\"news.tite:     {0}\"   .format(jsonObject['title']))\n",
    "        print(\"news.source:   {0}\"   .format(jsonObject['source']))\n",
    "        print(\"news.author:   {0}\"   .format(jsonObject['author']))\n",
    "        print(\"news.approved: {0}\"   .format(jsonObject['approved']))\n",
    "        display(HTML(\"\"\"<a target=\"_blank\" href=\"{0}\">link</a>\"\"\".format(jsonObject['link'])))\n",
    "        clear_output(wait=True)\n",
    "\n",
    "    \n",
    "client1.on_message = on_message\n",
    "client1.loop_start()    #start the loop\n",
    "clear_output(wait=True)"
   ]
  },
  {
   "cell_type": "markdown",
   "metadata": {},
   "source": [
    "## Filtering by author"
   ]
  },
  {
   "cell_type": "code",
   "execution_count": null,
   "metadata": {},
   "outputs": [],
   "source": [
    "def on_message(client, userdata, message):\n",
    "    \n",
    "    jsonObject = json.loads(str(message.payload.decode(\"utf-8\")))\n",
    "    \n",
    "    if(jsonObject['author'] == \"Asdrubal\"):\n",
    "        print(\"msg.topic:     {0}\"   .format(message.topic))\n",
    "        print(\"news.tite:     {0}\"   .format(jsonObject['title']))\n",
    "        print(\"news.source:   {0}\"   .format(jsonObject['source']))\n",
    "        print(\"news.author:   {0}\"   .format(jsonObject['author']))\n",
    "        print(\"news.approved: {0}\"   .format(jsonObject['approved']))\n",
    "        display(HTML(\"\"\"<a target=\"_blank\" href=\"{0}\">link</a>\"\"\".format(jsonObject['link'])))\n",
    "        clear_output(wait=True)\n",
    "\n",
    "    \n",
    "client1.on_message = on_message\n",
    "client1.loop_start()    #start the loop\n",
    "clear_output(wait=True)"
   ]
  },
  {
   "cell_type": "markdown",
   "metadata": {},
   "source": [
    "## Filtering approved messages"
   ]
  },
  {
   "cell_type": "code",
   "execution_count": null,
   "metadata": {},
   "outputs": [],
   "source": [
    "# to do"
   ]
  }
 ],
 "metadata": {
  "kernelspec": {
   "display_name": "Python 3",
   "language": "python",
   "name": "python3"
  },
  "language_info": {
   "codemirror_mode": {
    "name": "ipython",
    "version": 3
   },
   "file_extension": ".py",
   "mimetype": "text/x-python",
   "name": "python",
   "nbconvert_exporter": "python",
   "pygments_lexer": "ipython3",
   "version": "3.6.5"
  }
 },
 "nbformat": 4,
 "nbformat_minor": 2
}
