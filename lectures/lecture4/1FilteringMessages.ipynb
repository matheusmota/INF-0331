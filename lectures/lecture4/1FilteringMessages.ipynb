{
 "cells": [
  {
   "cell_type": "markdown",
   "metadata": {},
   "source": [
    "## Connecting to MQTT"
   ]
  },
  {
   "cell_type": "code",
   "execution_count": null,
   "metadata": {},
   "outputs": [],
   "source": [
    "import paho.mqtt.client as paho\n",
    "import json\n",
    "from IPython.display import clear_output\n",
    "\n",
    "broker=\"iot.eclipse.org\" \n",
    "port=1883\n",
    "pub_topic=\"/news/all\"\n",
    "\n",
    "def on_publish(client,userdata,result):             #create function for callback\n",
    "    print(\"Message published!\")\n",
    "\n",
    "client1 = paho.Client(\"filter1\")                           #create client object\n",
    "client1.on_publish = on_publish                          #assign function to callback    \n",
    "\n",
    "if(not client1.connect(broker,port)):                              #establish connection\n",
    "    print(\"Connected.\")"
   ]
  },
  {
   "cell_type": "markdown",
   "metadata": {},
   "source": [
    "## Subscribing to /news/all"
   ]
  },
  {
   "cell_type": "code",
   "execution_count": 2,
   "metadata": {},
   "outputs": [
    {
     "data": {
      "text/plain": [
       "(0, 1)"
      ]
     },
     "execution_count": 2,
     "metadata": {},
     "output_type": "execute_result"
    }
   ],
   "source": [
    "client1.subscribe((\"/news/all\"))"
   ]
  },
  {
   "cell_type": "markdown",
   "metadata": {},
   "source": [
    "## Structure of the JSON"
   ]
  },
  {
   "cell_type": "markdown",
   "metadata": {},
   "source": [
    "```json\n",
    "    {'title':   \"Titulo da noticia\",\n",
    "     'summary': \"Resumo da noticia\",\n",
    "     'link':    \"http://...\",\n",
    "     'source':  \"uol\",\n",
    "     'author':  \"Asdrubal\"\n",
    "     }\n",
    "```"
   ]
  },
  {
   "cell_type": "markdown",
   "metadata": {},
   "source": [
    "## Listening to all messages"
   ]
  },
  {
   "cell_type": "code",
   "execution_count": 3,
   "metadata": {},
   "outputs": [
    {
     "name": "stdout",
     "output_type": "stream",
     "text": [
      "Msg topic:   /news/all \n",
      "news.tite:   Ex-jogador de críquete Imran Khan é empossado premiê do Paquistão\n",
      "news.source: uol\n",
      "news.author: Yarapy\n"
     ]
    }
   ],
   "source": [
    "def on_message(client, userdata, message):\n",
    "    \n",
    "    jsonObject = json.loads(str(message.payload.decode(\"utf-8\")))\n",
    "    \n",
    "    print(\"Msg topic:   {0} \"  .format(message.topic))\n",
    "    print(\"news.tite:   {0}\".format(jsonObject['title']))\n",
    "    print(\"news.source: {0}\"       .format(jsonObject['source']))\n",
    "    print(\"news.author: {0}\"       .format(jsonObject['author']))\n",
    "    clear_output(wait=True)\n",
    "\n",
    "    \n",
    "client1.on_message = on_message\n",
    "client1.loop_start()    #start the loop"
   ]
  },
  {
   "cell_type": "markdown",
   "metadata": {},
   "source": [
    "## Filtering by source"
   ]
  },
  {
   "cell_type": "code",
   "execution_count": 8,
   "metadata": {},
   "outputs": [
    {
     "data": {
      "text/plain": [
       "3"
      ]
     },
     "execution_count": 8,
     "metadata": {},
     "output_type": "execute_result"
    }
   ],
   "source": [
    "def on_message(client, userdata, message):\n",
    "    \n",
    "    jsonObject = json.loads(str(message.payload.decode(\"utf-8\")))\n",
    "    \n",
    "    if(jsonObject['source'] == \"g1\"):\n",
    "        print(\"Msg topic:   {0} \"  .format(message.topic))\n",
    "        print(\"news.tite:   {0}\".format(jsonObject['title']))\n",
    "        print(\"news.source: {0}\"       .format(jsonObject['source']))\n",
    "        print(\"news.author: {0}\"       .format(jsonObject['author']))\n",
    "        clear_output(wait=True)\n",
    "\n",
    "    \n",
    "client1.on_message = on_message\n",
    "client1.loop_start()    #start the loop"
   ]
  },
  {
   "cell_type": "markdown",
   "metadata": {},
   "source": [
    "## Filtering by author"
   ]
  },
  {
   "cell_type": "code",
   "execution_count": 10,
   "metadata": {},
   "outputs": [
    {
     "name": "stdout",
     "output_type": "stream",
     "text": [
      "Msg topic: /news/all \n",
      "news.tite: Ex-jogador de críquete Imran Khan é empossado premiê do Paquistão\n",
      "news.source: uol\n",
      "news.author: Asdrubal\n"
     ]
    }
   ],
   "source": [
    "def on_message(client, userdata, message):\n",
    "    \n",
    "    jsonObject = json.loads(str(message.payload.decode(\"utf-8\")))\n",
    "    \n",
    "    if(jsonObject['author'] == \"Asdrubal\"):\n",
    "        print(\"Msg topic:   {0} \"  .format(message.topic))\n",
    "        print(\"news.tite:   {0}\".format(jsonObject['title']))\n",
    "        print(\"news.source: {0}\"       .format(jsonObject['source']))\n",
    "        print(\"news.author: {0}\"       .format(jsonObject['author']))\n",
    "        clear_output(wait=True)\n",
    "\n",
    "    \n",
    "client1.on_message = on_message\n",
    "client1.loop_start()    #start the loop"
   ]
  },
  {
   "cell_type": "code",
   "execution_count": null,
   "metadata": {},
   "outputs": [],
   "source": []
  }
 ],
 "metadata": {
  "kernelspec": {
   "display_name": "Python 3",
   "language": "python",
   "name": "python3"
  },
  "language_info": {
   "codemirror_mode": {
    "name": "ipython",
    "version": 3
   },
   "file_extension": ".py",
   "mimetype": "text/x-python",
   "name": "python",
   "nbconvert_exporter": "python",
   "pygments_lexer": "ipython3",
   "version": "3.6.5"
  }
 },
 "nbformat": 4,
 "nbformat_minor": 2
}
