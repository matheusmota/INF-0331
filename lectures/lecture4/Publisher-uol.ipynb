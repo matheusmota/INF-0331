{
 "cells": [
  {
   "cell_type": "code",
   "execution_count": 12,
   "metadata": {},
   "outputs": [],
   "source": [
    "import feedparser\n",
    "import json\n",
    "\n",
    "d = feedparser.parse('http://rss.uol.com.br/feed/noticias.xml')"
   ]
  },
  {
   "cell_type": "code",
   "execution_count": 14,
   "metadata": {},
   "outputs": [
    {
     "name": "stdout",
     "output_type": "stream",
     "text": [
      "{\"title\": \"Morte de ferido eleva para 43 as v\\u00edtimas mortais de desabamento em G\\u00eanova\", \"summary\": \"<img src='https://conteudo.imguol.com.br/c/noticias/28/2018/08/14/14ago2018---uma-ponte-desmoronou-na-cidade-portuaria-de-genova-no-norte-da-italia-uma-parte-da-ponte-de-cerca-de-50-metros-de-altura-caiu-um-rio-alguns-trilhos-de-trem-e-construcoes-a-estrutura-caiu-1534258249567_142x100.jpg' align=\\\"left\\\" />  \\tO n\\u00famero de v\\u00edtimas mortais ap\\u00f3s o desabamento de um viaduto na cidade de G\\u00eanova subiu para 43 neste s\\u00e1bado (18), depois da morte de um dos feridos internados em estado grave, informaram fontes hospitalares.\", \"link\": \"https://noticias.uol.com.br/ultimas-noticias/efe/2018/08/18/morte-de-ferido-eleva-para-43-as-vitimas-mortais-de-desabamento-em-genova.htm\"}\n",
      "{\"title\": \"Univel promete tomar provid\\u00eancias ap\\u00f3s mensagens machistas de alunos de Direito sobre Tatiane Spitzner\", \"summary\": \"<img src='https://conteudo.imguol.com.br/c/parceiros/76/2018/08/18/univel-promete-tomar-providencias-apos-mensagens-machistas-de-alunos-de-direito-sobre-tatiane-spitzner-1534610654734_v2_142x100.jpg' align=\\\"left\\\" />  O Centro Universit\\u00e1rio Univel, de Cascavel, no Oeste do Paran\\u00e1, promete tomar provid\\u00eancias contra estudantes do curso de Direito que ?\", \"link\": \"https://paranaportal.uol.com.br/cidades/univel-promete-tomar-providencias-apos-mensagens-machistas-de-alunos-de-direito-sobre-tatiane-spitzner/\"}\n",
      "{\"title\": \"Presidente do Apucarana Sports pede apoio da torcida na partida de estreia da Terceirona\", \"summary\": \"<img src='https://m1.tnonline.com.br/entre/2018/08/16/tn_ab11ea821c_douglas-apucarana-sports-sergio-4jpg.jpg' align=\\\"left\\\" />  Apucarana Sports faz no pr\\u00f3ximo s\\u00e1bado, \\u00e0s 20 horas, em casa, contra o Arapongas Esporte Clube, a sua estreia no Campeonato Paranaense da Terceira Divis\\u00e3o de 2018. Quem est\\u00e1 ansioso para a disputa d...\", \"link\": \"https://tnonline.uol.com.br/noticias/apucarana/45,469519,18,08,presidente-do-apucarana-sports-pede-apoio-da-torcida-na-partida-de-estreia-da-terceirona\"}\n",
      "{\"title\": \"Em jogo-treino, Arapongas Esporte Clube vence a Portuguesa Londrinense\", \"summary\": \"<img src='https://m1.tnonline.com.br/entre/2018/08/18/tn_d039bf1af4_arapa4jpg.jpg' align=\\\"left\\\" />  Arapongas Esporte Clube de forma positiva segue a sua prepara\\u00e7\\u00e3o para o Campeonato Paranaense da Terceira Divis\\u00e3o de 2018. Nesta sexta-feira \\u00e0 tarde em jogo-treino realizado no Est\\u00e1dio Jos\\u00e9 Chiappin...\", \"link\": \"https://tnonline.uol.com.br/noticias/arapongas/46,469518,18,08,em-jogo-treino-arapongas-esporte-clube-vence-a-portuguesa-londrinense\"}\n",
      "{\"title\": \"Obama destaca \\\"integridade, persist\\u00eancia e otimismo\\\" de Kofi Annan\", \"summary\": \"Washington, 18 ago (EFE).- O ex-presidente dos Estados Unidos Barack Obama destacou \\\"a integridade, a persist\\u00eancia e o otimismo\\\" de Kofi Annan, ex-secret\\u00e1rio-geral da ONU e Pr\\u00eamio Nobel da Paz que morreu neste s\\u00e1bado, aos 80 anos.\", \"link\": \"https://noticias.uol.com.br/ultimas-noticias/efe/2018/08/18/obama-destaca-integridade-persistencia-e-otimismo-de-kofi-annan.htm\"}\n",
      "{\"title\": \"Equipes apucaranenses estreiam neste domingo pela Supercopa Regional\", \"summary\": \"<img src='https://m1.tnonline.com.br/entre/2018/06/27/tn_e962f83f76_stivar6jpg.jpg' align=\\\"left\\\" /> ai acontecer neste domingo de manh\\u00e3 na Arena 7 Society (antiga Oficcina da Bola), em Apucarana, a primeira rodada do Grupo F da Supercopa de Futebol 7 Society da Liga de Londrina, categoria livre.\\u00c0s ...\", \"link\": \"https://tnonline.uol.com.br/noticias/apucarana/45,469517,18,08,equipes-apucaranenses-estreiam-neste-domingo-pela-supercopa-regional\"}\n",
      "{\"title\": \"Sobe a 43 n\\u00famero de mortos em queda de ponte em G\\u00eanova\", \"summary\": \"G\\u00caNOVA, 18 AGO (ANSA) - Subiu para 43 o n\\u00famero de mortos no desabamento da Ponte Morandi, em G\\u00eanova, ap\\u00f3s um dos feridos internados no hospital San Martino falecer, informaram as autoridades italianas neste s\\u00e1bado (18).\", \"link\": \"https://noticias.uol.com.br/ultimas-noticias/ansa/2018/08/18/sobe-a-43-numero-de-mortos-em-queda-de-ponte-em-genova.htm\"}\n",
      "{\"title\": \"Promotoria prop\\u00f5e at\\u00e9 6 meses de pris\\u00e3o para ex-assessor de Donald Trump\", \"summary\": \"Washington, 18 ago (EFE).- A equipe do procurador especial para a trama russa, Robert Mueller, prop\\u00f4s at\\u00e9 seis meses de pris\\u00e3o para George Papadopoulos, ex-assessor do presidente dos Estados Unidos, Donald Trump, por ter mentido nas investiga\\u00e7\\u00f5es, informaram neste s\\u00e1bado os ve\\u00edculos de imprensa americanos.\", \"link\": \"https://noticias.uol.com.br/ultimas-noticias/efe/2018/08/18/promotoria-propoe-ate-6-meses-de-prisao-para-ex-assessor-de-donald-trump.htm\"}\n",
      "{\"title\": \"Pel\\u00e9 deseja ?sorte? a Cristiano Ronaldo em estreia p\", \"summary\": \"(ANSA) - ROMA, 18 AGO (ANSA) - O ex-jogador brasileiro Pel\\u00e9 desejou \\\"boa sorte\\\" ao atacante portugu\\u00eas Cristiano Ronaldo, que disputar\\u00e1 sua primeira partida oficial pela Juventus neste s\\u00e1bado (18).\", \"link\": \"https://noticias.uol.com.br/ultimas-noticias/ansa/2018/08/18/pele-deseja-sorte-a-cristiano-ronaldo-em-estreia-p.htm\"}\n",
      "{\"title\": \"Presidente do Ir\\u00e3 vai ao Parlamento em breve, diz parlamentar\", \"summary\": \"LONDRES (Reuters) - Um parlamentar iraniano disse neste s\\u00e1bado que o presidente Hassan Rouhani comparecer\\u00e1 perante o parlamento em 28 de agosto para responder a perguntas sobre a maneira como o governo lida com as batalhas econ\\u00f4micas do Ir\\u00e3, mas um assessor de Rouhani negou a data marcada.\", \"link\": \"https://noticias.uol.com.br/ultimas-noticias/reuters/2018/08/18/presidente-do-ira-vai-ao-parlamento-em-breve-diz-parlamentar.htm\"}\n",
      "{\"title\": \"Rafinha Pennacchi disputa o Campeonato Brasileiro de BMX\", \"summary\": \"<img src='https://m1.tnonline.com.br/entre/2018/08/18/tn_678aa01350_bikejpg.jpg' align=\\\"left\\\" /> m comemora\\u00e7\\u00e3o ao anivers\\u00e1rio de S\\u00e3o Bernardo do Campo-SP, o apucaranense Rafael Pennacchi, o Rafinha, de 36 anos, que vai representar Maring\\u00e1, disputar\\u00e1 nesta segunda-feira, a partir das 11 horas, o ...\", \"link\": \"https://tnonline.uol.com.br/noticias/apucarana/45,469516,18,08,rafinha-pennacchi-disputa-o-campeonato-brasileiro-de-bmx\"}\n",
      "{\"title\": \"Bolsonaro diz que apoio a Lula refor\\u00e7a posi\\u00e7\\u00e3o de tirar Pa\\u00eds de conselho da ONU\", \"summary\": \"\", \"link\": \"https://noticias.uol.com.br/ultimas-noticias/agencia-estado/2018/08/18/bolsonaro-diz-que-apoio-a-lula-reforca-posicao-de-tirar-pais-de-conselho-da-onu.htm\"}\n",
      "{\"title\": \"Morte de ferido eleva para 43 as v\\u00edtimas mortais de desabamento em G\\u00eanova\", \"summary\": \"Roma, 18 ago (EFE).- O n\\u00famero de v\\u00edtimas mortais ap\\u00f3s o desabamento de um viaduto na cidade de G\\u00eanova subiu para 43 neste s\\u00e1bado, depois da morte de um dos feridos internados em estado grave, informaram fontes hospitalares.\", \"link\": \"https://noticias.uol.com.br/ultimas-noticias/efe/2018/08/18/morte-de-ferido-eleva-para-43-as-vitimas-mortais-de-desabamento-em-genova.htm\"}\n",
      "{\"title\": \"Santos Futebol Clube vai realizar avalia\\u00e7\\u00e3o nos dias 25 e 26 de agosto\", \"summary\": \"<img src='https://m1.tnonline.com.br/entre/2018/06/14/tn_3568998d62_peneirada-profeta-7jpg.jpg' align=\\\"left\\\" />  Santos Futebol Clube e o Gr\\u00eamio Esportivo e Recreativo Apucarana (Gera) realizam uma avalia\\u00e7\\u00e3o t\\u00e9cnica nos dias 25 e 26 de agosto no Centro Esportivo Hairton Santos (antigo est\\u00e1dio do Jos\\u00e9 Rico), a ...\", \"link\": \"https://tnonline.uol.com.br/noticias/apucarana/45,469515,18,08,santos-futebol-clube-vai-realizar-avaliacao-nos-dias-25-e-26-de-agosto\"}\n",
      "{\"title\": \"Italiana Autostrade pagar\\u00e1 500 milh\\u00f5es de euros a G\\u00eanova ap\\u00f3s desastre com ponte\", \"summary\": \"G\\u00caNOVA (Reuters) - A operadora italiana de rodovias Autostrade per l'Italia, que administrava uma ponte que desabou em G\\u00eanova nesta semana, destinou 500 milh\\u00f5es de euros (572 milh\\u00f5es de d\\u00f3lares) em investimentos \\u00e0 cidade portu\\u00e1ria para ajudar na recupera\\u00e7\\u00e3o do desastre.\", \"link\": \"https://noticias.uol.com.br/ultimas-noticias/reuters/2018/08/18/italiana-autostrade-pagara-500-milhoes-de-euros-a-genova-apos-desastre-com-ponte.htm\"}\n"
     ]
    }
   ],
   "source": [
    "for post in d.entries:\n",
    "    item ={'title':   post.title,\n",
    "           'summary': post.summary,\n",
    "           'link':    post.link,\n",
    "           'source':  'uol'\n",
    "          }\n",
    "    print(json.dumps(item))\n"
   ]
  },
  {
   "cell_type": "code",
   "execution_count": 8,
   "metadata": {},
   "outputs": [
    {
     "name": "stdout",
     "output_type": "stream",
     "text": [
      "{'title': 'Chile prende 2 suspeitos após falsas ameaças em voos', 'title_detail': {'type': 'text/plain', 'language': None, 'base': 'http://rss.uol.com.br/feed/noticias.xml', 'value': 'Chile prende 2 suspeitos após falsas ameaças em voos'}, 'links': [{'rel': 'alternate', 'type': 'text/html', 'href': 'https://noticias.uol.com.br/ultimas-noticias/ansa/2018/08/18/chile-prende-2-suspeitos-apos-falsas-ameacas-em-voos.htm'}], 'link': 'https://noticias.uol.com.br/ultimas-noticias/ansa/2018/08/18/chile-prende-2-suspeitos-apos-falsas-ameacas-em-voos.htm', 'summary': 'SÃO PAULO, 18 AGO (ANSA) - As autoridades do Chile prenderam nesta sexta-feira (17) dois homens suspeitos de realizarem ameaças de bombas que causaram pânico e alteração de rota de nove voos comerciais no Chile, Peru e Argentina na última quinta-feira (16).', 'summary_detail': {'type': 'text/html', 'language': None, 'base': 'http://rss.uol.com.br/feed/noticias.xml', 'value': 'SÃO PAULO, 18 AGO (ANSA) - As autoridades do Chile prenderam nesta sexta-feira (17) dois homens suspeitos de realizarem ameaças de bombas que causaram pânico e alteração de rota de nove voos comerciais no Chile, Peru e Argentina na última quinta-feira (16).'}, 'published': 'Sáb, 18 Ago 2018 12:51:00 -0300', 'published_parsed': None}\n"
     ]
    }
   ],
   "source": [
    "print(post)"
   ]
  }
 ],
 "metadata": {
  "kernelspec": {
   "display_name": "Python 3",
   "language": "python",
   "name": "python3"
  },
  "language_info": {
   "codemirror_mode": {
    "name": "ipython",
    "version": 3
   },
   "file_extension": ".py",
   "mimetype": "text/x-python",
   "name": "python",
   "nbconvert_exporter": "python",
   "pygments_lexer": "ipython3",
   "version": "3.6.5"
  }
 },
 "nbformat": 4,
 "nbformat_minor": 2
}
