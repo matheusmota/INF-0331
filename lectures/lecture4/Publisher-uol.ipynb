{
 "cells": [
  {
   "cell_type": "markdown",
   "metadata": {},
   "source": [
    "## Connecting to MQTT"
   ]
  },
  {
   "cell_type": "code",
   "execution_count": null,
   "metadata": {},
   "outputs": [],
   "source": [
    "import paho.mqtt.client as paho\n",
    "\n",
    "broker=\"pandora.lis.ic.unicamp.br\"\n",
    "port=1883\n",
    "pub_topic=\"/news/all\"\n",
    "def on_publish(client,userdata,result):             #create function for callback\n",
    "    print(\"data published \\n\")\n",
    "    pass\n",
    "client1 = paho.Client()                           #create client object\n",
    "client1.on_publish = on_publish                          #assign function to callback\n",
    "client1.connect(broker,port)                                 #establish connection"
   ]
  },
  {
   "cell_type": "code",
   "execution_count": null,
   "metadata": {},
   "outputs": [],
   "source": [
    "import feedparser\n",
    "import json\n",
    "\n",
    "d = feedparser.parse('http://rss.uol.com.br/feed/noticias.xml')"
   ]
  },
  {
   "cell_type": "code",
   "execution_count": null,
   "metadata": {},
   "outputs": [],
   "source": [
    "import random\n",
    "import time\n",
    "\n",
    "authors = ['Asdrubal', 'Luizadino','Yarapy']\n",
    "for post in d.entries:\n",
    "    item ={'title':   post.title,\n",
    "           'summary': post.summary,\n",
    "           'link':    post.link,\n",
    "           'source':  'uol',\n",
    "           'author':  random.choice (authors)\n",
    "          }\n",
    "    client1.publish(pub_topic,json.dumps(item))  \n",
    "    time.sleep(5)\n"
   ]
  },
  {
   "cell_type": "code",
   "execution_count": 8,
   "metadata": {},
   "outputs": [
    {
     "name": "stdout",
     "output_type": "stream",
     "text": [
      "{'title': 'Chile prende 2 suspeitos após falsas ameaças em voos', 'title_detail': {'type': 'text/plain', 'language': None, 'base': 'http://rss.uol.com.br/feed/noticias.xml', 'value': 'Chile prende 2 suspeitos após falsas ameaças em voos'}, 'links': [{'rel': 'alternate', 'type': 'text/html', 'href': 'https://noticias.uol.com.br/ultimas-noticias/ansa/2018/08/18/chile-prende-2-suspeitos-apos-falsas-ameacas-em-voos.htm'}], 'link': 'https://noticias.uol.com.br/ultimas-noticias/ansa/2018/08/18/chile-prende-2-suspeitos-apos-falsas-ameacas-em-voos.htm', 'summary': 'SÃO PAULO, 18 AGO (ANSA) - As autoridades do Chile prenderam nesta sexta-feira (17) dois homens suspeitos de realizarem ameaças de bombas que causaram pânico e alteração de rota de nove voos comerciais no Chile, Peru e Argentina na última quinta-feira (16).', 'summary_detail': {'type': 'text/html', 'language': None, 'base': 'http://rss.uol.com.br/feed/noticias.xml', 'value': 'SÃO PAULO, 18 AGO (ANSA) - As autoridades do Chile prenderam nesta sexta-feira (17) dois homens suspeitos de realizarem ameaças de bombas que causaram pânico e alteração de rota de nove voos comerciais no Chile, Peru e Argentina na última quinta-feira (16).'}, 'published': 'Sáb, 18 Ago 2018 12:51:00 -0300', 'published_parsed': None}\n"
     ]
    }
   ],
   "source": [
    "print(post)"
   ]
  }
 ],
 "metadata": {
  "kernelspec": {
   "display_name": "Python 3",
   "language": "python",
   "name": "python3"
  },
  "language_info": {
   "codemirror_mode": {
    "name": "ipython",
    "version": 3
   },
   "file_extension": ".py",
   "mimetype": "text/x-python",
   "name": "python",
   "nbconvert_exporter": "python",
   "pygments_lexer": "ipython3",
   "version": "3.6.5"
  }
 },
 "nbformat": 4,
 "nbformat_minor": 2
}
