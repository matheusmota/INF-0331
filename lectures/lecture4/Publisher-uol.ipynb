{
 "cells": [
  {
   "cell_type": "markdown",
   "metadata": {},
   "source": [
    "## Connecting to MQTT"
   ]
  },
  {
   "cell_type": "code",
   "execution_count": 5,
   "metadata": {},
   "outputs": [
    {
     "data": {
      "text/plain": [
       "0"
      ]
     },
     "execution_count": 5,
     "metadata": {},
     "output_type": "execute_result"
    }
   ],
   "source": [
    "import paho.mqtt.client as paho\n",
    "import random\n",
    "\n",
    "\n",
    "broker=\"143.106.23.69\"\n",
    "port=1883\n",
    "pub_topic=\"/news/all\"\n",
    "def on_publish(client,userdata,result):             #create function for callback\n",
    "    print(\"data published \\n\")\n",
    "    pass\n",
    "client1 = paho.Client(\"{0}\".format(random.randint(1, 9999999)))                           #create client object\n",
    "client1.on_publish = on_publish                          #assign function to callback\n",
    "client1.loop_start()\n",
    "client1.connect(broker,port)                                 #establish connection\n"
   ]
  },
  {
   "cell_type": "code",
   "execution_count": 6,
   "metadata": {},
   "outputs": [],
   "source": [
    "import feedparser\n",
    "import json\n",
    "\n",
    "d = feedparser.parse('http://rss.uol.com.br/feed/noticias.xml')"
   ]
  },
  {
   "cell_type": "code",
   "execution_count": 3,
   "metadata": {},
   "outputs": [],
   "source": [
    "import time\n",
    "\n",
    "authors = ['Asdrubal', 'Luizadino','Yarapy']\n",
    "\n",
    "for post in d.entries:\n",
    "    item ={'title':   post.title,\n",
    "           'summary': post.summary,\n",
    "           'link':    post.link,\n",
    "           'source':  'uol',\n",
    "           'author':  random.choice (authors)\n",
    "          }\n",
    "    client1.publish(pub_topic,json.dumps(item)) \n"
   ]
  },
  {
   "cell_type": "code",
   "execution_count": 4,
   "metadata": {},
   "outputs": [
    {
     "name": "stdout",
     "output_type": "stream",
     "text": [
      "{'title': 'Sobe a 43 número de mortos em queda de ponte em Gênova', 'title_detail': {'type': 'text/plain', 'language': None, 'base': 'http://rss.uol.com.br/feed/noticias.xml', 'value': 'Sobe a 43 número de mortos em queda de ponte em Gênova'}, 'links': [{'rel': 'alternate', 'type': 'text/html', 'href': 'https://noticias.uol.com.br/ultimas-noticias/ansa/2018/08/18/sobe-a-43-numero-de-mortos-em-queda-de-ponte-em-genova.htm'}], 'link': 'https://noticias.uol.com.br/ultimas-noticias/ansa/2018/08/18/sobe-a-43-numero-de-mortos-em-queda-de-ponte-em-genova.htm', 'summary': 'GÊNOVA, 18 AGO (ANSA) - Subiu para 43 o número de mortos no desabamento da Ponte Morandi, em Gênova, após um dos feridos internados no hospital San Martino falecer, informaram as autoridades italianas neste sábado (18).', 'summary_detail': {'type': 'text/html', 'language': None, 'base': 'http://rss.uol.com.br/feed/noticias.xml', 'value': 'GÊNOVA, 18 AGO (ANSA) - Subiu para 43 o número de mortos no desabamento da Ponte Morandi, em Gênova, após um dos feridos internados no hospital San Martino falecer, informaram as autoridades italianas neste sábado (18).'}, 'published': 'Sáb, 18 Ago 2018 13:21:00 -0300', 'published_parsed': None}\n"
     ]
    }
   ],
   "source": []
  },
  {
   "cell_type": "code",
   "execution_count": null,
   "metadata": {},
   "outputs": [],
   "source": []
  }
 ],
 "metadata": {
  "kernelspec": {
   "display_name": "Python 3",
   "language": "python",
   "name": "python3"
  },
  "language_info": {
   "codemirror_mode": {
    "name": "ipython",
    "version": 3
   },
   "file_extension": ".py",
   "mimetype": "text/x-python",
   "name": "python",
   "nbconvert_exporter": "python",
   "pygments_lexer": "ipython3",
   "version": "3.6.5"
  }
 },
 "nbformat": 4,
 "nbformat_minor": 2
}
