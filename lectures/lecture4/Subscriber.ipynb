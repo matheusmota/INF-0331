{
 "cells": [
  {
   "cell_type": "markdown",
   "metadata": {},
   "source": [
    "### 1. Starting a local MQTT broker"
   ]
  },
  {
   "cell_type": "code",
   "execution_count": 1,
   "metadata": {},
   "outputs": [
    {
     "name": "stdout",
     "output_type": "stream",
     "text": [
      "1534908983: mosquitto version 1.4.15 (build date Sat, 07 Apr 2018 11:16:43 +0100) starting\n",
      "1534908983: Using default config.\n",
      "1534908983: Opening ipv4 listen socket on port 1883.\n",
      "1534908983: Error: Address already in use\n"
     ]
    }
   ],
   "source": [
    "! mosquitto"
   ]
  },
  {
   "cell_type": "markdown",
   "metadata": {},
   "source": [
    "### 2. Starting the publishers\n",
    "\n",
    "Both scripts [publisher-g1.py](./publisher-g1.py) and [publisher-uol.py](./publisher-uol.py) will retrieve news from [RSS / XML] (https://en.wikipedia.org/wiki/RSS) sources and publish them in the broker accordingly the following JSON structure:\n",
    "\n",
    "```json\n",
    "    {'title':   \"Titulo da noticia\",\n",
    "     'summary': \"Resumo da noticia\",\n",
    "     'link':    \"http://...\",\n",
    "     'source':  \"uol\",\n",
    "     'author':  \"Asdrubal\"\n",
    "     }\n",
    "```"
   ]
  },
  {
   "cell_type": "code",
   "execution_count": 2,
   "metadata": {},
   "outputs": [],
   "source": [
    "import subprocess\n",
    "publisher1 = subprocess.Popen([\"python3\",\"publisher-g1.py\"])\n",
    "publisher2 = subprocess.Popen([\"python3\",\"publisher-uol.py\"])\n"
   ]
  },
  {
   "cell_type": "markdown",
   "metadata": {},
   "source": [
    "#### **Suggestion:** open a terminal and listen to the /news/all topic in the broker. \n",
    "\n",
    "In terminal, enter:\n",
    "```bash\n",
    "mosquitto_sub -t \"/news/all\"\n",
    "```"
   ]
  },
  {
   "cell_type": "markdown",
   "metadata": {},
   "source": [
    "### 3. Connecting to the local MQTT broker"
   ]
  },
  {
   "cell_type": "code",
   "execution_count": 3,
   "metadata": {},
   "outputs": [],
   "source": [
    "import paho.mqtt.client as paho\n",
    "import json\n",
    "from IPython.display import clear_output\n",
    "from IPython.core.display import display, HTML\n",
    "\n",
    "broker=\"localhost\" \n",
    "port=1883\n",
    "\n",
    "client1 = paho.Client(\"client1\")                      #create client object\n",
    "\n",
    "c = client1.connect(broker,port)                      #establishing the connection"
   ]
  },
  {
   "cell_type": "markdown",
   "metadata": {},
   "source": [
    "### 4. Subscribing to the \"/news/all\" topic"
   ]
  },
  {
   "cell_type": "code",
   "execution_count": 4,
   "metadata": {},
   "outputs": [],
   "source": [
    "pub_topic=\"/news/all\"\n",
    "status = client1.subscribe((\"/news/all\"))"
   ]
  },
  {
   "cell_type": "markdown",
   "metadata": {},
   "source": [
    "### 5. Listening to all messages"
   ]
  },
  {
   "cell_type": "code",
   "execution_count": 6,
   "metadata": {},
   "outputs": [
    {
     "name": "stdout",
     "output_type": "stream",
     "text": [
      "msg.topic:     /news/all\n",
      "news.tite:     Quatro pessoas ficam feridas após táxi colidir com traseira de caminhão em rodovia no AM\n",
      "news.source:   g1\n",
      "news.author:   Luizadino\n",
      "news.approved: False\n"
     ]
    },
    {
     "data": {
      "text/html": [
       "<a target=\"_blank\" href=\"https://g1.globo.com/am/amazonas/noticia/2018/08/21/quatro-pessoas-ficam-feridas-apos-taxi-colidir-com-traseira-de-caminhao-em-rodovia-no-am.ghtml\">link</a>"
      ],
      "text/plain": [
       "<IPython.core.display.HTML object>"
      ]
     },
     "metadata": {},
     "output_type": "display_data"
    }
   ],
   "source": [
    "def on_message(client, userdata, message):\n",
    "    \n",
    "    jsonObject = json.loads(str(message.payload.decode(\"utf-8\")))\n",
    "    \n",
    "    print(\"msg.topic:     {0}\"   .format(message.topic))\n",
    "    print(\"news.tite:     {0}\"   .format(jsonObject['title']))\n",
    "    print(\"news.source:   {0}\"   .format(jsonObject['source']))\n",
    "    print(\"news.author:   {0}\"   .format(jsonObject['author']))\n",
    "    print(\"news.approved: {0}\"   .format(jsonObject['approved']))\n",
    "    display(HTML(\"\"\"<a target=\"_blank\" href=\"{0}\">link</a>\"\"\".format(jsonObject['link'])))\n",
    "    clear_output(wait=True)\n",
    "\n",
    "    \n",
    "client1.on_message = on_message\n",
    "client1.loop_start()    #start the loop\n",
    "clear_output(wait=True)"
   ]
  },
  {
   "cell_type": "markdown",
   "metadata": {},
   "source": [
    "### 6.1. Filtering by the _source_ field (g1)"
   ]
  },
  {
   "cell_type": "code",
   "execution_count": 10,
   "metadata": {},
   "outputs": [
    {
     "name": "stdout",
     "output_type": "stream",
     "text": [
      "msg.topic:     /news/all\n",
      "news.tite:     Dois carros se envolvem em acidente em cruzamento de João Pessoa\n",
      "news.source:   g1\n",
      "news.author:   Yarapy\n",
      "news.approved: True\n"
     ]
    },
    {
     "data": {
      "text/html": [
       "<a target=\"_blank\" href=\"https://g1.globo.com/pb/paraiba/noticia/2018/08/21/dois-carros-se-envolvem-em-acidente-em-cruzamento-de-joao-pessoa.ghtml\">link</a>"
      ],
      "text/plain": [
       "<IPython.core.display.HTML object>"
      ]
     },
     "metadata": {},
     "output_type": "display_data"
    }
   ],
   "source": [
    "def on_message(client, userdata, message):\n",
    "    \n",
    "    jsonObject = json.loads(str(message.payload.decode(\"utf-8\")))\n",
    "    \n",
    "    if(jsonObject['source'] == \"g1\"):\n",
    "        print(\"msg.topic:     {0}\"   .format(message.topic))\n",
    "        print(\"news.tite:     {0}\"   .format(jsonObject['title']))\n",
    "        print(\"news.source:   {0}\"   .format(jsonObject['source']))\n",
    "        print(\"news.author:   {0}\"   .format(jsonObject['author']))\n",
    "        print(\"news.approved: {0}\"   .format(jsonObject['approved']))\n",
    "        display(HTML(\"\"\"<a target=\"_blank\" href=\"{0}\">link</a>\"\"\".format(jsonObject['link'])))\n",
    "        clear_output(wait=True)\n",
    "\n",
    "    \n",
    "client1.on_message = on_message\n",
    "client1.loop_start()    #start the loop\n",
    "clear_output(wait=True)"
   ]
  },
  {
   "cell_type": "markdown",
   "metadata": {},
   "source": [
    "### 6.2. Filtering by the _author_ field (Asdrubal)"
   ]
  },
  {
   "cell_type": "code",
   "execution_count": 11,
   "metadata": {},
   "outputs": [
    {
     "name": "stdout",
     "output_type": "stream",
     "text": [
      "msg.topic:     /news/all\n",
      "news.tite:     Congresso de radiodifusão reúne empresários e diretores de emissoras\n",
      "news.source:   g1\n",
      "news.author:   Asdrubal\n",
      "news.approved: False\n"
     ]
    },
    {
     "data": {
      "text/html": [
       "<a target=\"_blank\" href=\"https://g1.globo.com/jornal-nacional/noticia/2018/08/21/congresso-de-radiodifusao-reune-empresarios-e-diretores-de-emissoras.ghtml\">link</a>"
      ],
      "text/plain": [
       "<IPython.core.display.HTML object>"
      ]
     },
     "metadata": {},
     "output_type": "display_data"
    }
   ],
   "source": [
    "def on_message(client, userdata, message):\n",
    "    \n",
    "    jsonObject = json.loads(str(message.payload.decode(\"utf-8\")))\n",
    "    \n",
    "    if(jsonObject['author'] == \"Asdrubal\"):\n",
    "        print(\"msg.topic:     {0}\"   .format(message.topic))\n",
    "        print(\"news.tite:     {0}\"   .format(jsonObject['title']))\n",
    "        print(\"news.source:   {0}\"   .format(jsonObject['source']))\n",
    "        print(\"news.author:   {0}\"   .format(jsonObject['author']))\n",
    "        print(\"news.approved: {0}\"   .format(jsonObject['approved']))\n",
    "        display(HTML(\"\"\"<a target=\"_blank\" href=\"{0}\">link</a>\"\"\".format(jsonObject['link'])))\n",
    "        clear_output(wait=True)\n",
    "\n",
    "    \n",
    "client1.on_message = on_message\n",
    "client1.loop_start()    #start the loop\n",
    "clear_output(wait=True)"
   ]
  },
  {
   "cell_type": "markdown",
   "metadata": {},
   "source": [
    "### 6.3. Filtering by the _approved_ field "
   ]
  },
  {
   "cell_type": "code",
   "execution_count": 3,
   "metadata": {},
   "outputs": [],
   "source": [
    "# do it yourself"
   ]
  }
 ],
 "metadata": {
  "kernelspec": {
   "display_name": "Python 3",
   "language": "python",
   "name": "python3"
  },
  "language_info": {
   "codemirror_mode": {
    "name": "ipython",
    "version": 3
   },
   "file_extension": ".py",
   "mimetype": "text/x-python",
   "name": "python",
   "nbconvert_exporter": "python",
   "pygments_lexer": "ipython3",
   "version": "3.6.5"
  }
 },
 "nbformat": 4,
 "nbformat_minor": 2
}
