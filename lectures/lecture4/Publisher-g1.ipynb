{
 "cells": [
  {
   "cell_type": "markdown",
   "metadata": {},
   "source": [
    "## Connecting to MQTT"
   ]
  },
  {
   "cell_type": "code",
   "execution_count": 1,
   "metadata": {},
   "outputs": [
    {
     "name": "stdout",
     "output_type": "stream",
     "text": [
      "Connected.\n"
     ]
    }
   ],
   "source": [
    "import paho.mqtt.client as paho\n",
    "import random\n",
    "broker=\"iot.eclipse.org\"\n",
    "port=1883 \n",
    "pub_topic=\"/news/all\" \n",
    "\n",
    "def on_publish(client,userdata,result):             #create function for callback\n",
    "    print(\"Message published!\")\n",
    "\n",
    "client1 = paho.Client(\"publisher{0}\".format(random.randint(0,99999999)))                           #create client object\n",
    "#client1.on_publish = on_publish                          #assign function to callback\n",
    "if(not client1.connect(broker,port)):                              #establish connection\n",
    "    print(\"Connected.\")\n"
   ]
  },
  {
   "cell_type": "markdown",
   "metadata": {},
   "source": [
    "## Resquesting rss and publishing news to MQTT"
   ]
  },
  {
   "cell_type": "code",
   "execution_count": null,
   "metadata": {},
   "outputs": [
    {
     "name": "stdout",
     "output_type": "stream",
     "text": [
      "publishing...\n"
     ]
    }
   ],
   "source": [
    "import time\n",
    "import random\n",
    "import feedparser\n",
    "import json\n",
    "\n",
    "authors = ['Asdrubal', 'Luizadino','Yarapy']\n",
    "\n",
    "print(\"publishing...\")\n",
    "\n",
    "while(True):\n",
    "    d = feedparser.parse('http://pox.globo.com/rss/g1/')\n",
    "    for post in d.entries:\n",
    "        item ={'title':   post.title,\n",
    "               'summary': post.summary,\n",
    "               'link':    post.link,\n",
    "               'source':  'g1',\n",
    "               'author':  random.choice (authors)\n",
    "              }\n",
    "        client1.publish(pub_topic,json.dumps(item)) \n",
    "        time.sleep(random.randint(3,8))\n",
    "print(\"Finished publishing!\")\n"
   ]
  },
  {
   "cell_type": "code",
   "execution_count": null,
   "metadata": {},
   "outputs": [],
   "source": []
  },
  {
   "cell_type": "code",
   "execution_count": null,
   "metadata": {},
   "outputs": [],
   "source": []
  }
 ],
 "metadata": {
  "kernelspec": {
   "display_name": "Python 3",
   "language": "python",
   "name": "python3"
  },
  "language_info": {
   "codemirror_mode": {
    "name": "ipython",
    "version": 3
   },
   "file_extension": ".py",
   "mimetype": "text/x-python",
   "name": "python",
   "nbconvert_exporter": "python",
   "pygments_lexer": "ipython3",
   "version": "3.6.5"
  }
 },
 "nbformat": 4,
 "nbformat_minor": 2
}
