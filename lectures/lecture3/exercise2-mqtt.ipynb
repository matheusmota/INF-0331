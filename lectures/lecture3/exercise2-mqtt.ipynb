{
 "cells": [
  {
   "cell_type": "markdown",
   "metadata": {},
   "source": [
    "# Exchanging messagens via MQTT\n",
    "\n",
    "* Start a MQTT broker - Mosquitto:"
   ]
  },
  {
   "cell_type": "markdown",
   "metadata": {},
   "source": [
    "```bash\n",
    "mosquitto &\n",
    "```"
   ]
  },
  {
   "cell_type": "markdown",
   "metadata": {},
   "source": [
    "The command **\"mosquitto_sub -t <topic>** subscribes to a <topic> and prints received messages\n",
    " \n",
    " \n",
    "* Start a mosquito listener via:\n",
    "\n",
    "```bash\n",
    "mosquitto_sub -v -t \"/zombieclinic/diagnosis/request\"\n",
    "```"
   ]
  },
  {
   "cell_type": "markdown",
   "metadata": {},
   "source": [
    "The command **\"mosquitto_pub -t <topic> -m <message>** publishes a <message> to the <topic>. Subscribers will receive the messages.\n",
    " \n",
    " \n",
    "* Send a message via mosquito via:\n",
    "\n",
    "```bash\n",
    "mosquitto_pub -t \"/zombieclinic/diagnosis/request\" -m \"please dignose me\"\n",
    "```\n",
    "\n",
    "\n",
    "\n"
   ]
  },
  {
   "cell_type": "markdown",
   "metadata": {},
   "source": [
    "## Exchanging messagens via multiple MQTT topics\n",
    "\n"
   ]
  },
  {
   "cell_type": "markdown",
   "metadata": {},
   "source": [
    "Reply the previous message via other topic:\n",
    "\n",
    "```bash\n",
    "mosquitto_pub -t \"/zombieclinic/diagnosis/response\" -m \"not sick! =)\"\n",
    "```\n",
    "\n",
    "\n",
    "MQTT allows you to use wildcards, therefore you can listen all messages in a group of topics. \n",
    "Change your previous subscriber to listen to all topics within the path </zombieclinic/diagnosis/*>:\n",
    "\n",
    "And reply it via other topic:\n",
    "\n",
    "```bash\n",
    "mosquitto_sub -v -t \"/zombieclinic/diagnosis/*\" \n",
    "```"
   ]
  },
  {
   "cell_type": "markdown",
   "metadata": {},
   "source": [
    "* use the notebook **example4-viewsendingmsg.ipynb** to publish requests"
   ]
  }
 ],
 "metadata": {
  "kernelspec": {
   "display_name": "Python 3",
   "language": "python",
   "name": "python3"
  },
  "language_info": {
   "codemirror_mode": {
    "name": "ipython",
    "version": 3
   },
   "file_extension": ".py",
   "mimetype": "text/x-python",
   "name": "python",
   "nbconvert_exporter": "python",
   "pygments_lexer": "ipython3",
   "version": "3.6.5"
  }
 },
 "nbformat": 4,
 "nbformat_minor": 2
}
