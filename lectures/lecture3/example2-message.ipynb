{
 "cells": [
  {
   "cell_type": "markdown",
   "metadata": {},
   "source": [
    "### importing jars"
   ]
  },
  {
   "cell_type": "code",
   "execution_count": 1,
   "metadata": {},
   "outputs": [
    {
     "data": {
      "application/vnd.jupyter.widget-view+json": {
       "model_id": "487ba3e9-f253-4a67-a12d-bbc1c859e911",
       "version_major": 2,
       "version_minor": 0
      },
      "method": "display_data"
     },
     "metadata": {},
     "output_type": "display_data"
    },
    {
     "data": {
      "application/vnd.jupyter.widget-view+json": {
       "model_id": "3bf2839b-9be1-455c-9dcf-3a9b275ab1a2",
       "version_major": 2,
       "version_minor": 0
      },
      "method": "display_data"
     },
     "metadata": {},
     "output_type": "display_data"
    },
    {
     "data": {
      "application/vnd.jupyter.widget-view+json": {
       "model_id": "7d905514-7f37-4264-bc3e-564ba82e998e",
       "version_major": 2,
       "version_minor": 0
      },
      "method": "display_data"
     },
     "metadata": {},
     "output_type": "display_data"
    },
    {
     "data": {
      "application/vnd.jupyter.widget-view+json": {
       "model_id": "f3e51bee-630b-4de8-8dd1-0cd603752f8e",
       "version_major": 2,
       "version_minor": 0
      },
      "method": "display_data"
     },
     "metadata": {},
     "output_type": "display_data"
    }
   ],
   "source": [
    "%classpath add jar ../../resources/libs/component-catalog.jar\n",
    "%classpath add jar ../../resources/libs/weka-3.8.2.jar\n",
    "%classpath add jar ../../resources/libs/xchart-3.5.2.jar\n",
    "%classpath add jar ../../resources/libs/mqttv3-1.1.2.jar"
   ]
  },
  {
   "cell_type": "code",
   "execution_count": 7,
   "metadata": {},
   "outputs": [
    {
     "data": {
      "text/plain": [
       "pt.c08componentes.s20catalog.s90ml.DiagnosticsComponent"
      ]
     },
     "execution_count": 7,
     "metadata": {},
     "output_type": "execute_result"
    }
   ],
   "source": [
    "package pt.c08componentes.s20catalog.s90ml;\n",
    "\n",
    "import java.util.Random;\n",
    "\n",
    "import pt.c08componentes.s20catalog.s00shared.IColumnProducer;\n",
    "import pt.c08componentes.s20catalog.s00shared.IInstancesProducer;\n",
    "import weka.classifiers.Evaluation;\n",
    "import weka.classifiers.trees.J48;\n",
    "import weka.core.Instance;\n",
    "import weka.core.Instances;\n",
    "\n",
    "public class DiagnosticsComponent implements IDiagnostics {\n",
    "  private IInstancesProducer iProducer;\n",
    "  IColumnProducer cProducer;\n",
    "  IEHR ehrOutput;\n",
    "  \n",
    "  public void connect(IInstancesProducer producer) {\n",
    "    iProducer = producer;\n",
    "  }\n",
    "  \n",
    "  public void connect(IEHR ehr) {\n",
    "    this.ehrOutput = ehr;\n",
    "  }\n",
    "\t\n",
    "  public void diagnose(String name, int age, double[] symptoms) {\n",
    "\tsendEHR(new EHR(name, age, symptoms, \"\"));\n",
    "  }\n",
    "  \n",
    "  public void sendEHR(EHR ehrInput) {\n",
    "    try {\n",
    "      if (iProducer != null) {\n",
    "        Instances dataTrain = iProducer.requestInstances();\n",
    "        // setting class attribute\n",
    "\t    dataTrain.setClassIndex(dataTrain.numAttributes() - 1);\n",
    "\t    \n",
    "\t    System.out.println(dataTrain.instance(0));\n",
    "\t      \n",
    "\t    String[] options = {\"-U\"};  // unpruned tree\n",
    "\t    J48 tree = new J48();       // new instance of tree\n",
    "\t    tree.setOptions(options);   // set the options\n",
    "\t    tree.buildClassifier(dataTrain); // build classifier\n",
    "\t      \n",
    "\t    Evaluation eval = new Evaluation(dataTrain);\n",
    "\t    eval.crossValidateModel(tree, dataTrain, 10, new Random(1)); \n",
    "\t      \n",
    "\t    System.out.println(eval.toSummaryString(\"\\nResults\\n======\\n\", false));\n",
    "\n",
    "\t    Instance input = dataTrain.instance(0).copy(ehrInput.getSymptoms());\n",
    "        double clsLabel = tree.classifyInstance(input);\n",
    "        input.setClassValue(clsLabel);\n",
    "        \n",
    "//         ehrInput.setDiagnostics(input.toString());\n",
    "//         if (ehrOutput != null)\n",
    "//         \tehrOutput.sendEHR(ehrInput);\n",
    "\t      \n",
    "        \n",
    "        System.out.println(\"===== AA   Classification:\");\n",
    "\t    System.out.println(input);\n",
    "\t    \n",
    "\t    \n",
    "      }\n",
    "    } catch (Exception e) {\n",
    "      e.printStackTrace();\n",
    "    }\n",
    "  }\n",
    "}\n"
   ]
  },
  {
   "cell_type": "code",
   "execution_count": 8,
   "metadata": {},
   "outputs": [
    {
     "name": "stdout",
     "output_type": "stream",
     "text": [
      "t,t,f,f,f,f,f,bacterial_infection\n"
     ]
    },
    {
     "name": "stderr",
     "output_type": "stream",
     "text": [
      "Aug 11, 2018 6:42:54 PM com.github.fommil.netlib.ARPACK <clinit>\n",
      "WARNING: Failed to load implementation from: com.github.fommil.netlib.NativeSystemARPACK\n",
      "Aug 11, 2018 6:42:54 PM com.github.fommil.netlib.ARPACK <clinit>\n",
      "WARNING: Failed to load implementation from: com.github.fommil.netlib.NativeSystemARPACK\n",
      "Aug 11, 2018 6:42:54 PM com.github.fommil.netlib.ARPACK <clinit>\n",
      "WARNING: Failed to load implementation from: com.github.fommil.netlib.NativeRefARPACK\n",
      "Aug 11, 2018 6:42:54 PM com.github.fommil.netlib.ARPACK <clinit>\n",
      "WARNING: Failed to load implementation from: com.github.fommil.netlib.NativeRefARPACK\n"
     ]
    },
    {
     "name": "stdout",
     "output_type": "stream",
     "text": [
      "\n",
      "Results\n",
      "======\n",
      "\n",
      "Correctly Classified Instances          14               73.6842 %\n",
      "Incorrectly Classified Instances         5               26.3158 %\n",
      "Kappa statistic                          0.6455\n",
      "Mean absolute error                      0.1745\n",
      "Root mean squared error                  0.3477\n",
      "Relative absolute error                 56.0569 %\n",
      "Root relative squared error             87.2821 %\n",
      "Total Number of Instances               19     \n",
      "\n",
      "===== AA   Classification:\n",
      "t,t,f,f,f,f,f,bacterial_infection\n"
     ]
    },
    {
     "data": {
      "text/plain": [
       "null"
      ]
     },
     "execution_count": 8,
     "metadata": {},
     "output_type": "execute_result"
    }
   ],
   "source": [
    "import pt.c08componentes.s20catalog.s10ds.DataSetComponent;\n",
    "import pt.c08componentes.s20catalog.s10ds.IDataSet;\n",
    "import pt.c08componentes.s20catalog.s90ml.AnamnesisRegisterComponent;\n",
    "import pt.c08componentes.s20catalog.s90ml.DiagnosticsComponent;\n",
    "import pt.c08componentes.s20catalog.s90ml.EHRConsoleComponent;\n",
    "import pt.c08componentes.s20catalog.s90ml.IAnamnesisRegister;\n",
    "import pt.c08componentes.s20catalog.s90ml.IDiagnostics;\n",
    "import pt.c08componentes.s20catalog.s90ml.IEHRConsole;\n",
    "\n",
    "try {\n",
    "    IAnamnesisRegister anamnesis = new AnamnesisRegisterComponent();\n",
    "\n",
    "    IDiagnostics diagnostics = new DiagnosticsComponent();\n",
    "    anamnesis.connect(diagnostics);\n",
    "\n",
    "    IEHRConsole console = new EHRConsoleComponent();\n",
    "    diagnostics.connect(console);\n",
    "    \n",
    "    double[] symptoms = {1, 1, 1, 1, 1, 1, 1, 1};\n",
    "    \n",
    "    diagnostics.diagnose(\"Asdrubal\", 30, symptoms);\n",
    "\n",
    "    IDataSet dataset = new DataSetComponent();\n",
    "    dataset.setDataSource(\"../../resources/datasets/zombie-health-spreadsheet-ml-training.arff\");\n",
    "    diagnostics.connect(dataset);\n",
    "\n",
    "    anamnesis.start();\n",
    "    \n",
    "} catch (Exception e) {\n",
    "    e.printStackTrace();\n",
    "}"
   ]
  },
  {
   "cell_type": "code",
   "execution_count": 4,
   "metadata": {},
   "outputs": [
    {
     "name": "stdout",
     "output_type": "stream",
     "text": [
      "@relation zombie-health-spreadsheet-ml-training\n",
      "\n",
      "@attribute paralysis {t,f}\n",
      "@attribute yellow_tong {t,f}\n",
      "@attribute member_loss {f,t}\n",
      "@attribute chest_pain {f,t}\n",
      "@attribute trembling_finger {f,t}\n",
      "@attribute severe_anger {f,t}\n",
      "@attribute history_bacteria {f,t}\n",
      "@attribute diagnostic {bacterial_infection,bite_deficit,viral_infection,fights,nothing}\n",
      "\n",
      "@data\n",
      "t,t,f,f,f,f,f,bacterial_infection\n",
      "f,t,f,f,f,f,f,bacterial_infection\n",
      "f,t,f,f,t,f,t,bite_deficit\n",
      "f,t,t,f,t,f,f,bite_deficit\n",
      "f,f,t,t,f,f,f,viral_infection\n",
      "f,f,t,f,f,t,f,fights\n",
      "f,f,f,f,f,t,f,nothing\n",
      "f,f,f,f,t,f,f,bite_deficit\n",
      "f,t,f,t,f,f,f,bacterial_infection\n",
      "f,f,f,t,f,f,f,viral_infection\n",
      "f,t,t,f,f,f,t,bite_deficit\n",
      "t,t,f,f,f,f,f,bacterial_infection\n",
      "f,f,f,t,f,f,t,viral_infection\n",
      "f,f,t,f,f,f,f,fights\n",
      "f,t,f,f,t,f,t,bite_deficit\n",
      "f,t,t,f,t,f,f,bite_deficit\n",
      "f,f,f,t,f,f,f,fights\n",
      "f,t,f,f,f,f,f,bacterial_infection\n",
      "f,f,f,f,t,f,f,bite_deficit\n"
     ]
    },
    {
     "data": {
      "text/plain": [
       "null"
      ]
     },
     "execution_count": 4,
     "metadata": {},
     "output_type": "execute_result"
    }
   ],
   "source": [
    "import pt.c08componentes.s20catalog.s10ds.DataSetComponent;\n",
    "import pt.c08componentes.s20catalog.s10ds.IDataSet;\n",
    "import pt.c08componentes.s20catalog.s20console.ConsoleComponent;\n",
    "import pt.c08componentes.s20catalog.s20console.IConsole;\n",
    "\n",
    "try {\n",
    "    \n",
    "    IDataSet dataset = new DataSetComponent();\n",
    "    dataset.setDataSource(\"../../resources/datasets/zombie-health-spreadsheet-ml-training.csv\");\n",
    "\n",
    "    IConsole console = new ConsoleComponent();\n",
    "    console.connect(dataset);\n",
    "\n",
    "    console.update();\n",
    "\n",
    "} catch (Exception e) {\n",
    "\n",
    "    e.printStackTrace();\n",
    "\n",
    "}\n"
   ]
  },
  {
   "cell_type": "code",
   "execution_count": 5,
   "metadata": {},
   "outputs": [
    {
     "data": {
      "text/plain": [
       "com.twosigma.beaker.javash.bkr38696e6b.PahoDemo"
      ]
     },
     "execution_count": 5,
     "metadata": {},
     "output_type": "execute_result"
    }
   ],
   "source": [
    "import org.eclipse.paho.client.mqttv3.IMqttDeliveryToken;\n",
    "import org.eclipse.paho.client.mqttv3.MqttCallback;\n",
    "import org.eclipse.paho.client.mqttv3.MqttClient;\n",
    "import org.eclipse.paho.client.mqttv3.MqttException;\n",
    "import org.eclipse.paho.client.mqttv3.MqttMessage;\n",
    "\n",
    "public class PahoDemo implements MqttCallback {\n",
    "\n",
    "MqttClient client;\n",
    "\n",
    "public PahoDemo() {\n",
    "}\n",
    "\n",
    "public static void main(String[] args) {\n",
    "    new PahoDemo().doDemo();\n",
    "}\n",
    "\n",
    "public void doDemo() {\n",
    "    try {\n",
    "        System.out.println(\"entrei\");\n",
    "        client = new MqttClient(\"tcp://localhost:1883\", \"Sending\");\n",
    "        client.connect();\n",
    "        client.setCallback(this);\n",
    "        client.subscribe(\"foo\");\n",
    "        MqttMessage message = new MqttMessage();\n",
    "        message.setPayload(\"A single message from my computer fff\"\n",
    "                .getBytes());\n",
    "        client.publish(\"foo\", message);\n",
    "    } catch (MqttException e) {\n",
    "        e.printStackTrace();\n",
    "    }\n",
    "}\n",
    "\n",
    "@Override\n",
    "public void connectionLost(Throwable cause) {\n",
    "    // TODO Auto-generated method stub\n",
    "\n",
    "}\n",
    "\n",
    "@Override\n",
    "public void messageArrived(String topic, MqttMessage message)\n",
    "        throws Exception {\n",
    "        MqttMessage message2 = new MqttMessage();\n",
    "        message2.setPayload(\"recebi a parada\"\n",
    "                .getBytes());\n",
    "        client.publish(\"foo2\", message2);\n",
    "}\n",
    "\n",
    "@Override\n",
    "public void deliveryComplete(IMqttDeliveryToken token) {\n",
    "    // TODO Auto-generated method stub\n",
    "\n",
    "}\n",
    "\n",
    "}"
   ]
  },
  {
   "cell_type": "code",
   "execution_count": 6,
   "metadata": {},
   "outputs": [
    {
     "name": "stdout",
     "output_type": "stream",
     "text": [
      "entrei\n"
     ]
    },
    {
     "data": {
      "text/plain": [
       "null"
      ]
     },
     "execution_count": 6,
     "metadata": {},
     "output_type": "execute_result"
    }
   ],
   "source": [
    "PahoDemo.main(new String[5]);"
   ]
  }
 ],
 "metadata": {
  "kernelspec": {
   "display_name": "Java",
   "language": "java",
   "name": "java"
  },
  "language_info": {
   "codemirror_mode": "text/x-java",
   "file_extension": ".java",
   "mimetype": "",
   "name": "Java",
   "nbconverter_exporter": "",
   "version": "1.8.0_181"
  }
 },
 "nbformat": 4,
 "nbformat_minor": 2
}
