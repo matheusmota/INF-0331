{
 "cells": [
  {
   "cell_type": "markdown",
   "metadata": {},
   "source": [
    "## Component Composition\n",
    "\n",
    "### Importing .jars for Weka and components from the [@santanche/java2learn](https://github.com/santanche/java2learn) project"
   ]
  },
  {
   "cell_type": "code",
   "execution_count": 2,
   "metadata": {},
   "outputs": [
    {
     "data": {
      "application/vnd.jupyter.widget-view+json": {
       "model_id": "1a0e9929-31e5-4c0d-8535-c4a6ea67ee87",
       "version_major": 2,
       "version_minor": 0
      },
      "method": "display_data"
     },
     "metadata": {},
     "output_type": "display_data"
    },
    {
     "data": {
      "application/vnd.jupyter.widget-view+json": {
       "model_id": "9673539f-94af-4c3e-af91-fcbe46da13fe",
       "version_major": 2,
       "version_minor": 0
      },
      "method": "display_data"
     },
     "metadata": {},
     "output_type": "display_data"
    }
   ],
   "source": [
    "%classpath add jar ../../resources/libs/component-catalog.jar\n",
    "%classpath add jar ../../resources/libs/weka-3.8.2.jar"
   ]
  },
  {
   "cell_type": "markdown",
   "metadata": {},
   "source": [
    "### Exercise 1: Connect components of the following interfaces:\n",
    "\n",
    "* IAnamnesisRegister\n",
    "* IDiagnostics\n",
    "* IEHRConsole\n",
    "* IDataSet"
   ]
  },
  {
   "cell_type": "code",
   "execution_count": 17,
   "metadata": {},
   "outputs": [
    {
     "data": {
      "text/plain": [
       "null"
      ]
     },
     "execution_count": 17,
     "metadata": {},
     "output_type": "execute_result"
    }
   ],
   "source": [
    "import pt.c08componentes.s20catalog.s10ds.DataSetComponent;\n",
    "import pt.c08componentes.s20catalog.s10ds.IDataSet;\n",
    "import pt.c08componentes.s20catalog.s90ml.AnamnesisRegisterComponent;\n",
    "import pt.c08componentes.s20catalog.s90ml.DiagnosticsComponent;\n",
    "import pt.c08componentes.s20catalog.s90ml.EHRConsoleComponent;\n",
    "import pt.c08componentes.s20catalog.s90ml.IAnamnesisRegister;\n",
    "import pt.c08componentes.s20catalog.s90ml.IDiagnostics;\n",
    "import pt.c08componentes.s20catalog.s90ml.IEHRConsole;\n",
    "\n",
    "  try {\n",
    "      \n",
    "    IDataSet dataset = new DataSetComponent();\n",
    "    dataset.setDataSource(\"../../resources/datasets/zombie-health-spreadsheet-ml-training.arff\");\n",
    "\n",
    "      \n",
    "  } catch (Exception e) {\n",
    "      \n",
    "    e.printStackTrace();\n",
    "      \n",
    "  }\n",
    "\n"
   ]
  },
  {
   "cell_type": "code",
   "execution_count": null,
   "metadata": {},
   "outputs": [],
   "source": []
  },
  {
   "cell_type": "code",
   "execution_count": null,
   "metadata": {},
   "outputs": [],
   "source": []
  },
  {
   "cell_type": "code",
   "execution_count": null,
   "metadata": {},
   "outputs": [],
   "source": []
  }
 ],
 "metadata": {
  "kernelspec": {
   "display_name": "Java",
   "language": "java",
   "name": "java"
  },
  "language_info": {
   "codemirror_mode": "text/x-java",
   "file_extension": ".java",
   "mimetype": "",
   "name": "Java",
   "nbconverter_exporter": "",
   "version": "1.8.0_181"
  }
 },
 "nbformat": 4,
 "nbformat_minor": 2
}
