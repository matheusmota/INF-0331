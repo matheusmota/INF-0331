{
 "cells": [
  {
   "cell_type": "markdown",
   "metadata": {},
   "source": [
    "### importing jars"
   ]
  },
  {
   "cell_type": "code",
   "execution_count": 1,
   "metadata": {},
   "outputs": [
    {
     "data": {
      "application/vnd.jupyter.widget-view+json": {
       "model_id": "6f3cbbba-171e-42ac-a80c-ac3148ab3c84",
       "version_major": 2,
       "version_minor": 0
      },
      "method": "display_data"
     },
     "metadata": {},
     "output_type": "display_data"
    },
    {
     "data": {
      "application/vnd.jupyter.widget-view+json": {
       "model_id": "9687b752-2b95-4dfb-8097-8bb6ed3f90e2",
       "version_major": 2,
       "version_minor": 0
      },
      "method": "display_data"
     },
     "metadata": {},
     "output_type": "display_data"
    },
    {
     "data": {
      "application/vnd.jupyter.widget-view+json": {
       "model_id": "8f218c5a-b45a-44cd-afd0-5dacecf76540",
       "version_major": 2,
       "version_minor": 0
      },
      "method": "display_data"
     },
     "metadata": {},
     "output_type": "display_data"
    },
    {
     "data": {
      "application/vnd.jupyter.widget-view+json": {
       "model_id": "40768252-bb2f-47e5-a40d-da6da8db5b83",
       "version_major": 2,
       "version_minor": 0
      },
      "method": "display_data"
     },
     "metadata": {},
     "output_type": "display_data"
    }
   ],
   "source": [
    "%classpath add jar ../../resources/libs/component-catalog.jar\n",
    "%classpath add jar ../../resources/libs/weka-3.8.2.jar\n",
    "%classpath add jar ../../resources/libs/xchart-3.5.2.jar\n",
    "%classpath add jar ../../resources/libs/mqttv3-1.1.2.jar"
   ]
  },
  {
   "cell_type": "code",
   "execution_count": 2,
   "metadata": {},
   "outputs": [
    {
     "name": "stdout",
     "output_type": "stream",
     "text": [
      "@relation zombie-health-spreadsheet-ml-training\n",
      "\n",
      "@attribute paralysis {t,f}\n",
      "@attribute yellow_tong {t,f}\n",
      "@attribute member_loss {f,t}\n",
      "@attribute chest_pain {f,t}\n",
      "@attribute trembling_finger {f,t}\n",
      "@attribute severe_anger {f,t}\n",
      "@attribute history_bacteria {f,t}\n",
      "@attribute diagnostic {bacterial_infection,bite_deficit,viral_infection,fights,nothing}\n",
      "\n",
      "@data\n",
      "t,t,f,f,f,f,f,bacterial_infection\n",
      "f,t,f,f,f,f,f,bacterial_infection\n",
      "f,t,f,f,t,f,t,bite_deficit\n",
      "f,t,t,f,t,f,f,bite_deficit\n",
      "f,f,t,t,f,f,f,viral_infection\n",
      "f,f,t,f,f,t,f,fights\n",
      "f,f,f,f,f,t,f,nothing\n",
      "f,f,f,f,t,f,f,bite_deficit\n",
      "f,t,f,t,f,f,f,bacterial_infection\n",
      "f,f,f,t,f,f,f,viral_infection\n",
      "f,t,t,f,f,f,t,bite_deficit\n",
      "t,t,f,f,f,f,f,bacterial_infection\n",
      "f,f,f,t,f,f,t,viral_infection\n",
      "f,f,t,f,f,f,f,fights\n",
      "f,t,f,f,t,f,t,bite_deficit\n",
      "f,t,t,f,t,f,f,bite_deficit\n",
      "f,f,f,t,f,f,f,fights\n",
      "f,t,f,f,f,f,f,bacterial_infection\n",
      "f,f,f,f,t,f,f,bite_deficit\n"
     ]
    },
    {
     "data": {
      "text/plain": [
       "null"
      ]
     },
     "execution_count": 2,
     "metadata": {},
     "output_type": "execute_result"
    }
   ],
   "source": [
    "import pt.c08componentes.s20catalog.s10ds.DataSetComponent;\n",
    "import pt.c08componentes.s20catalog.s10ds.IDataSet;\n",
    "import pt.c08componentes.s20catalog.s20console.ConsoleComponent;\n",
    "import pt.c08componentes.s20catalog.s20console.IConsole;\n",
    "\n",
    "      try {\n",
    "        IDataSet dataset = new DataSetComponent();\n",
    "        dataset.setDataSource(\"../../resources/datasets/zombie-health-spreadsheet-ml-training.csv\");\n",
    "        \n",
    "        IConsole console = new ConsoleComponent();\n",
    "        console.connect(dataset);\n",
    "        \n",
    "        console.update();\n",
    "      } catch (Exception e) {\n",
    "        e.printStackTrace();\n",
    "      }\n"
   ]
  },
  {
   "cell_type": "code",
   "execution_count": 3,
   "metadata": {},
   "outputs": [
    {
     "data": {
      "text/plain": [
       "com.twosigma.beaker.javash.bkraa1d497a.PahoDemo"
      ]
     },
     "execution_count": 3,
     "metadata": {},
     "output_type": "execute_result"
    }
   ],
   "source": [
    "import org.eclipse.paho.client.mqttv3.IMqttDeliveryToken;\n",
    "import org.eclipse.paho.client.mqttv3.MqttCallback;\n",
    "import org.eclipse.paho.client.mqttv3.MqttClient;\n",
    "import org.eclipse.paho.client.mqttv3.MqttException;\n",
    "import org.eclipse.paho.client.mqttv3.MqttMessage;\n",
    "\n",
    "public class PahoDemo implements MqttCallback {\n",
    "\n",
    "MqttClient client;\n",
    "\n",
    "public PahoDemo() {\n",
    "}\n",
    "\n",
    "public static void main(String[] args) {\n",
    "    new PahoDemo().doDemo();\n",
    "}\n",
    "\n",
    "public void doDemo() {\n",
    "    try {\n",
    "        System.out.println(\"entrei\");\n",
    "        client = new MqttClient(\"tcp://localhost:1883\", \"Sending\");\n",
    "        client.connect();\n",
    "        client.setCallback(this);\n",
    "        client.subscribe(\"foo\");\n",
    "        MqttMessage message = new MqttMessage();\n",
    "        message.setPayload(\"A single message from my computer fff\"\n",
    "                .getBytes());\n",
    "        client.publish(\"foo\", message);\n",
    "    } catch (MqttException e) {\n",
    "        e.printStackTrace();\n",
    "    }\n",
    "}\n",
    "\n",
    "@Override\n",
    "public void connectionLost(Throwable cause) {\n",
    "    // TODO Auto-generated method stub\n",
    "\n",
    "}\n",
    "\n",
    "@Override\n",
    "public void messageArrived(String topic, MqttMessage message)\n",
    "        throws Exception {\n",
    "        MqttMessage message2 = new MqttMessage();\n",
    "        message2.setPayload(\"recebi a parada\"\n",
    "                .getBytes());\n",
    "        client.publish(\"foo2\", message2);\n",
    "}\n",
    "\n",
    "@Override\n",
    "public void deliveryComplete(IMqttDeliveryToken token) {\n",
    "    // TODO Auto-generated method stub\n",
    "\n",
    "}\n",
    "\n",
    "}"
   ]
  },
  {
   "cell_type": "code",
   "execution_count": 4,
   "metadata": {},
   "outputs": [
    {
     "name": "stdout",
     "output_type": "stream",
     "text": [
      "entrei\n"
     ]
    },
    {
     "data": {
      "text/plain": [
       "null"
      ]
     },
     "execution_count": 4,
     "metadata": {},
     "output_type": "execute_result"
    }
   ],
   "source": [
    "PahoDemo.main(new String[5]);"
   ]
  }
 ],
 "metadata": {
  "kernelspec": {
   "display_name": "Java",
   "language": "java",
   "name": "java"
  },
  "language_info": {
   "codemirror_mode": "text/x-java",
   "file_extension": ".java",
   "mimetype": "",
   "name": "Java",
   "nbconverter_exporter": "",
   "version": "1.8.0_181"
  }
 },
 "nbformat": 4,
 "nbformat_minor": 2
}
