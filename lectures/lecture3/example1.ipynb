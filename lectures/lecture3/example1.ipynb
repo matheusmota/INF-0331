{
 "cells": [
  {
   "cell_type": "markdown",
   "metadata": {},
   "source": [
    "### importing jars"
   ]
  },
  {
   "cell_type": "code",
   "execution_count": 1,
   "metadata": {},
   "outputs": [
    {
     "data": {
      "application/vnd.jupyter.widget-view+json": {
       "model_id": "d92cacdf-0eb7-4dca-8315-03cfbdafcc0d",
       "version_major": 2,
       "version_minor": 0
      },
      "method": "display_data"
     },
     "metadata": {},
     "output_type": "display_data"
    },
    {
     "data": {
      "application/vnd.jupyter.widget-view+json": {
       "model_id": "6a82f830-4cfd-4b49-a38b-d56ab2ca1b52",
       "version_major": 2,
       "version_minor": 0
      },
      "method": "display_data"
     },
     "metadata": {},
     "output_type": "display_data"
    },
    {
     "data": {
      "application/vnd.jupyter.widget-view+json": {
       "model_id": "959f0b17-fda1-4b37-999e-64fa9ce366fd",
       "version_major": 2,
       "version_minor": 0
      },
      "method": "display_data"
     },
     "metadata": {},
     "output_type": "display_data"
    }
   ],
   "source": [
    "%classpath add jar ../../resources/libs/component-catalog.jar\n",
    "%classpath add jar ../../resources/libs/weka-3.8.2.jar\n",
    "%classpath add jar ../../resources/libs/xchart-3.5.2.jar"
   ]
  },
  {
   "cell_type": "code",
   "execution_count": 2,
   "metadata": {},
   "outputs": [
    {
     "name": "stdout",
     "output_type": "stream",
     "text": [
      "@relation zombie-health-spreadsheet-ml-training\n",
      "\n",
      "@attribute paralysis {t,f}\n",
      "@attribute yellow_tong {t,f}\n",
      "@attribute member_loss {f,t}\n",
      "@attribute chest_pain {f,t}\n",
      "@attribute trembling_finger {f,t}\n",
      "@attribute severe_anger {f,t}\n",
      "@attribute history_bacteria {f,t}\n",
      "@attribute diagnostic {bacterial_infection,bite_deficit,viral_infection,fights,nothing}\n",
      "\n",
      "@data\n",
      "t,t,f,f,f,f,f,bacterial_infection\n",
      "f,t,f,f,f,f,f,bacterial_infection\n",
      "f,t,f,f,t,f,t,bite_deficit\n",
      "f,t,t,f,t,f,f,bite_deficit\n",
      "f,f,t,t,f,f,f,viral_infection\n",
      "f,f,t,f,f,t,f,fights\n",
      "f,f,f,f,f,t,f,nothing\n",
      "f,f,f,f,t,f,f,bite_deficit\n",
      "f,t,f,t,f,f,f,bacterial_infection\n",
      "f,f,f,t,f,f,f,viral_infection\n",
      "f,t,t,f,f,f,t,bite_deficit\n",
      "t,t,f,f,f,f,f,bacterial_infection\n",
      "f,f,f,t,f,f,t,viral_infection\n",
      "f,f,t,f,f,f,f,fights\n",
      "f,t,f,f,t,f,t,bite_deficit\n",
      "f,t,t,f,t,f,f,bite_deficit\n",
      "f,f,f,t,f,f,f,fights\n",
      "f,t,f,f,f,f,f,bacterial_infection\n",
      "f,f,f,f,t,f,f,bite_deficit\n"
     ]
    },
    {
     "data": {
      "text/plain": [
       "null"
      ]
     },
     "execution_count": 2,
     "metadata": {},
     "output_type": "execute_result"
    }
   ],
   "source": [
    "import pt.c08componentes.s20catalog.s10ds.DataSetComponent;\n",
    "import pt.c08componentes.s20catalog.s10ds.IDataSet;\n",
    "import pt.c08componentes.s20catalog.s20console.ConsoleComponent;\n",
    "import pt.c08componentes.s20catalog.s20console.IConsole;\n",
    "\n",
    "      try {\n",
    "        IDataSet dataset = new DataSetComponent();\n",
    "        dataset.setDataSource(\"../../resources/datasets/zombie-health-spreadsheet-ml-training.csv\");\n",
    "        \n",
    "        IConsole console = new ConsoleComponent();\n",
    "        console.connect(dataset);\n",
    "        \n",
    "        console.update();\n",
    "      } catch (Exception e) {\n",
    "        e.printStackTrace();\n",
    "      }\n"
   ]
  },
  {
   "cell_type": "code",
   "execution_count": 3,
   "metadata": {},
   "outputs": [
    {
     "name": "stdout",
     "output_type": "stream",
     "text": [
      "***** empty *****\n"
     ]
    },
    {
     "name": "stderr",
     "output_type": "stream",
     "text": [
      "java.awt.HeadlessException: \n",
      "No X11 DISPLAY variable was set, but this program performed an operation which requires it.\n",
      "\tjava.awt.GraphicsEnvironment.checkHeadless(GraphicsEnvironment.java:204)\n",
      "\tjava.awt.Window.<init>(Window.java:536)\n",
      "\tjava.awt.Frame.<init>(Frame.java:420)\n",
      "\tjavax.swing.JFrame.<init>(JFrame.java:233)\n",
      "\torg.knowm.xchart.SwingWrapper.displayChart(SwingWrapper.java:76)\n",
      "\tpt.c08componentes.s20catalog.s50chart.ChartBubbleComponent.start(ChartBubbleComponent.java:60)\n",
      "\tcom.twosigma.beaker.javash.bkrac913fe9.BeakerWrapperClass1261714175Id73bff0399a1a44a0b5440a5f75f6aba2.beakerRun(BeakerWrapperClass1261714175Id73bff0399a1a44a0b5440a5f75f6aba2.java:55)\n",
      "\tsun.reflect.NativeMethodAccessorImpl.invoke0(Native Method)\n",
      "\tsun.reflect.NativeMethodAccessorImpl.invoke(NativeMethodAccessorImpl.java:62)\n",
      "\tsun.reflect.DelegatingMethodAccessorImpl.invoke(DelegatingMethodAccessorImpl.java:43)\n",
      "\tjava.lang.reflect.Method.invoke(Method.java:498)\n",
      "\tcom.twosigma.beakerx.javash.evaluator.JavaCodeRunner.compileAndRunCode(JavaCodeRunner.java:121)\n",
      "\tcom.twosigma.beakerx.javash.evaluator.JavaCodeRunner.compileCode(JavaCodeRunner.java:99)\n",
      "\tcom.twosigma.beakerx.javash.evaluator.JavaCodeRunner.runCode(JavaCodeRunner.java:84)\n",
      "\tcom.twosigma.beakerx.javash.evaluator.JavaCodeRunner.call(JavaCodeRunner.java:58)\n",
      "\tcom.twosigma.beakerx.javash.evaluator.JavaCodeRunner.call(JavaCodeRunner.java:39)\n",
      "\tjava.util.concurrent.FutureTask.run(FutureTask.java:266)\n",
      "\tjava.util.concurrent.ThreadPoolExecutor.runWorker(ThreadPoolExecutor.java:1142)\n",
      "\tjava.util.concurrent.ThreadPoolExecutor$Worker.run(ThreadPoolExecutor.java:617)\n",
      "\tjava.lang.Thread.run(Thread.java:745)\n",
      "\n",
      "\tat java.awt.GraphicsEnvironment.checkHeadless(GraphicsEnvironment.java:204)\n",
      "\tat java.awt.Window.<init>(Window.java:536)\n",
      "\tat java.awt.Frame.<init>(Frame.java:420)\n",
      "\tat javax.swing.JFrame.<init>(JFrame.java:233)\n",
      "\tat org.knowm.xchart.SwingWrapper.displayChart(SwingWrapper.java:76)\n",
      "\tat pt.c08componentes.s20catalog.s50chart.ChartBubbleComponent.start(ChartBubbleComponent.java:60)\n",
      "\tat com.twosigma.beaker.javash.bkrac913fe9.BeakerWrapperClass1261714175Id73bff0399a1a44a0b5440a5f75f6aba2.beakerRun(BeakerWrapperClass1261714175Id73bff0399a1a44a0b5440a5f75f6aba2.java:55)\n",
      "\tat sun.reflect.NativeMethodAccessorImpl.invoke0(Native Method)\n",
      "\tat sun.reflect.NativeMethodAccessorImpl.invoke(NativeMethodAccessorImpl.java:62)\n",
      "\tat sun.reflect.DelegatingMethodAccessorImpl.invoke(DelegatingMethodAccessorImpl.java:43)\n",
      "\tat java.lang.reflect.Method.invoke(Method.java:498)\n",
      "\tat com.twosigma.beakerx.javash.evaluator.JavaCodeRunner.compileAndRunCode(JavaCodeRunner.java:121)\n",
      "\tat com.twosigma.beakerx.javash.evaluator.JavaCodeRunner.compileCode(JavaCodeRunner.java:99)\n",
      "\tat com.twosigma.beakerx.javash.evaluator.JavaCodeRunner.runCode(JavaCodeRunner.java:84)\n",
      "\tat com.twosigma.beakerx.javash.evaluator.JavaCodeRunner.call(JavaCodeRunner.java:58)\n",
      "\tat com.twosigma.beakerx.javash.evaluator.JavaCodeRunner.call(JavaCodeRunner.java:39)\n",
      "\tat java.util.concurrent.FutureTask.run(FutureTask.java:266)\n",
      "\tat java.util.concurrent.ThreadPoolExecutor.runWorker(ThreadPoolExecutor.java:1142)\n",
      "\tat java.util.concurrent.ThreadPoolExecutor$Worker.run(ThreadPoolExecutor.java:617)\n",
      "\tat java.lang.Thread.run(Thread.java:745)\n"
     ]
    },
    {
     "data": {
      "text/plain": [
       "null"
      ]
     },
     "execution_count": 3,
     "metadata": {},
     "output_type": "execute_result"
    }
   ],
   "source": [
    "import pt.c08componentes.s20catalog.s10ds.DataSetComponent;\n",
    "import pt.c08componentes.s20catalog.s10ds.IDataSet;\n",
    "import pt.c08componentes.s20catalog.s30projection.IProjection;\n",
    "import pt.c08componentes.s20catalog.s30projection.ProjectionComponent;\n",
    "import pt.c08componentes.s20catalog.s50chart.ChartBubbleComponent;\n",
    "import pt.c08componentes.s20catalog.s50chart.ChartParameter;\n",
    "import pt.c08componentes.s20catalog.s50chart.IChart;\n",
    "\n",
    "      try {\n",
    "        IDataSet dataset = new DataSetComponent();\n",
    "        dataset.setDataSource(\"../../resources/datasets/zombie-health-spreadsheet-ml-training.csv\");\n",
    "        \n",
    "        IProjection projectionDays = new ProjectionComponent();\n",
    "        projectionDays.connect(dataset);\n",
    "        projectionDays.setAttribute(\"days_recovery\");\n",
    "        projectionDays.setTitle(\"days of recovery\");\n",
    "        \n",
    "        IProjection projectionAge = new ProjectionComponent();\n",
    "        projectionAge.connect(dataset);\n",
    "        projectionAge.setAttribute(\"age\");\n",
    "        System.out.println(projectionAge);\n",
    "\n",
    "        IChart chart = new ChartBubbleComponent();\n",
    "        chart.setTitle(\"Zombie Health\");\n",
    "        chart.connect(projectionDays, ChartParameter.X_AXIS);\n",
    "        chart.connect(projectionAge, ChartParameter.Y_AXIS);\n",
    "        \n",
    "        boolean status = chart.start();\n",
    "        if (!status)\n",
    "          System.out.println(\"*** nao foi possivel criar o grafico ***\");\n",
    "      } catch (Exception e) {\n",
    "        e.printStackTrace();\n",
    "      }"
   ]
  }
 ],
 "metadata": {
  "kernelspec": {
   "display_name": "Java",
   "language": "java",
   "name": "java"
  },
  "language_info": {
   "codemirror_mode": "text/x-java",
   "file_extension": ".java",
   "mimetype": "",
   "name": "Java",
   "nbconverter_exporter": "",
   "version": "1.8.0_121"
  }
 },
 "nbformat": 4,
 "nbformat_minor": 2
}
