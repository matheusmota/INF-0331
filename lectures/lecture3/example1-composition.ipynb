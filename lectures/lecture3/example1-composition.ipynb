{
 "cells": [
  {
   "cell_type": "markdown",
   "metadata": {},
   "source": [
    "### importing jars"
   ]
  },
  {
   "cell_type": "code",
   "execution_count": 1,
   "metadata": {},
   "outputs": [
    {
     "data": {
      "application/vnd.jupyter.widget-view+json": {
       "model_id": "1b9097e3-3c02-4b5d-8721-d73d9fd3db02",
       "version_major": 2,
       "version_minor": 0
      },
      "method": "display_data"
     },
     "metadata": {},
     "output_type": "display_data"
    },
    {
     "data": {
      "application/vnd.jupyter.widget-view+json": {
       "model_id": "9609930f-0f66-4e86-8e12-4bd0f40c6cea",
       "version_major": 2,
       "version_minor": 0
      },
      "method": "display_data"
     },
     "metadata": {},
     "output_type": "display_data"
    }
   ],
   "source": [
    "%classpath add jar ../../resources/libs/component-catalog.jar\n",
    "%classpath add jar ../../resources/libs/weka-3.8.2.jar"
   ]
  },
  {
   "cell_type": "code",
   "execution_count": 3,
   "metadata": {},
   "outputs": [
    {
     "name": "stdout",
     "output_type": "stream",
     "text": [
      "@relation zombie-health-spreadsheet-ml-training\n",
      "\n",
      "@attribute paralysis {t,f}\n",
      "@attribute yellow_tong {t,f}\n",
      "@attribute member_loss {f,t}\n",
      "@attribute chest_pain {f,t}\n",
      "@attribute trembling_finger {f,t}\n",
      "@attribute severe_anger {f,t}\n",
      "@attribute history_bacteria {f,t}\n",
      "@attribute diagnostic {bacterial_infection,bite_deficit,viral_infection,fights,nothing}\n",
      "\n",
      "@data\n",
      "t,t,f,f,f,f,f,bacterial_infection\n",
      "f,t,f,f,f,f,f,bacterial_infection\n",
      "f,t,f,f,t,f,t,bite_deficit\n",
      "f,t,t,f,t,f,f,bite_deficit\n",
      "f,f,t,t,f,f,f,viral_infection\n",
      "f,f,t,f,f,t,f,fights\n",
      "f,f,f,f,f,t,f,nothing\n",
      "f,f,f,f,t,f,f,bite_deficit\n",
      "f,t,f,t,f,f,f,bacterial_infection\n",
      "f,f,f,t,f,f,f,viral_infection\n",
      "f,t,t,f,f,f,t,bite_deficit\n",
      "t,t,f,f,f,f,f,bacterial_infection\n",
      "f,f,f,t,f,f,t,viral_infection\n",
      "f,f,t,f,f,f,f,fights\n",
      "f,t,f,f,t,f,t,bite_deficit\n",
      "f,t,t,f,t,f,f,bite_deficit\n",
      "f,f,f,t,f,f,f,fights\n",
      "f,t,f,f,f,f,f,bacterial_infection\n",
      "f,f,f,f,t,f,f,bite_deficit\n"
     ]
    },
    {
     "data": {
      "text/plain": [
       "null"
      ]
     },
     "execution_count": 3,
     "metadata": {},
     "output_type": "execute_result"
    }
   ],
   "source": [
    "import pt.c08componentes.s20catalog.s10ds.DataSetComponent;\n",
    "import pt.c08componentes.s20catalog.s10ds.IDataSet;\n",
    "import pt.c08componentes.s20catalog.s20console.ConsoleComponent;\n",
    "import pt.c08componentes.s20catalog.s20console.IConsole;\n",
    "\n",
    "  try {\n",
    "    IDataSet dataset = new DataSetComponent();\n",
    "    dataset.setDataSource(\"../../resources/datasets/zombie-health-spreadsheet-ml-training.csv\");\n",
    "\n",
    "    IConsole console = new ConsoleComponent();\n",
    "    console.connect(dataset);\n",
    "\n",
    "    console.update();\n",
    "      \n",
    "  } catch (Exception e) {\n",
    "      \n",
    "    e.printStackTrace();\n",
    "      \n",
    "  }\n"
   ]
  },
  {
   "cell_type": "code",
   "execution_count": 5,
   "metadata": {},
   "outputs": [
    {
     "name": "stdout",
     "output_type": "stream",
     "text": [
      "t,t,f,f,f,f,f,bacterial_infection\n",
      "\n",
      "Results\n",
      "======\n",
      "\n",
      "Correctly Classified Instances          14               73.6842 %\n",
      "Incorrectly Classified Instances         5               26.3158 %\n",
      "Kappa statistic                          0.6455\n",
      "Mean absolute error                      0.1745\n",
      "Root mean squared error                  0.3477\n",
      "Relative absolute error                 56.0569 %\n",
      "Root relative squared error             87.2821 %\n",
      "Total Number of Instances               19     \n",
      "\n",
      "Name: Asdrubal\n",
      "Age: 45\n",
      "Symptoms: [D@6217d93b\n",
      "Diagnostics: t,t,f,f,f,f,f,bacterial_infection\n"
     ]
    },
    {
     "data": {
      "text/plain": [
       "null"
      ]
     },
     "execution_count": 5,
     "metadata": {},
     "output_type": "execute_result"
    }
   ],
   "source": [
    "import pt.c08componentes.s20catalog.s10ds.DataSetComponent;\n",
    "import pt.c08componentes.s20catalog.s10ds.IDataSet;\n",
    "import pt.c08componentes.s20catalog.s90ml.AnamnesisRegisterComponent;\n",
    "import pt.c08componentes.s20catalog.s90ml.DiagnosticsComponent;\n",
    "import pt.c08componentes.s20catalog.s90ml.EHRConsoleComponent;\n",
    "import pt.c08componentes.s20catalog.s90ml.IAnamnesisRegister;\n",
    "import pt.c08componentes.s20catalog.s90ml.IDiagnostics;\n",
    "import pt.c08componentes.s20catalog.s90ml.IEHRConsole;\n",
    "\n",
    "  try {\n",
    "    IAnamnesisRegister anamnesis = new AnamnesisRegisterComponent();\n",
    "\n",
    "    IDiagnostics diagnostics = new DiagnosticsComponent();\n",
    "    anamnesis.connect(diagnostics);\n",
    "\n",
    "    IEHRConsole console = new EHRConsoleComponent();\n",
    "    diagnostics.connect(console);\n",
    "\n",
    "    IDataSet dataset = new DataSetComponent();\n",
    "    dataset.setDataSource(\"../../resources/datasets/zombie-health-spreadsheet-ml-training.arff\");\n",
    "    diagnostics.connect(dataset);\n",
    "\n",
    "    anamnesis.start();\n",
    "  } catch (Exception e) {\n",
    "    e.printStackTrace();\n",
    "  }"
   ]
  }
 ],
 "metadata": {
  "kernelspec": {
   "display_name": "Java",
   "language": "java",
   "name": "java"
  },
  "language_info": {
   "codemirror_mode": "text/x-java",
   "file_extension": ".java",
   "mimetype": "",
   "name": "Java",
   "nbconverter_exporter": "",
   "version": "1.8.0_181"
  }
 },
 "nbformat": 4,
 "nbformat_minor": 2
}
