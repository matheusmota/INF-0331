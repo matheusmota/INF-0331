{
 "cells": [
  {
   "cell_type": "markdown",
   "metadata": {},
   "source": [
    "## Declaring an interface\n"
   ]
  },
  {
   "cell_type": "code",
   "execution_count": 18,
   "metadata": {},
   "outputs": [
    {
     "data": {
      "text/plain": [
       "com.twosigma.beaker.javash.bkr63ab2b55.Animal"
      ]
     },
     "execution_count": 18,
     "metadata": {},
     "output_type": "execute_result"
    }
   ],
   "source": [
    "\n",
    "interface Animal {\n",
    "   public void eat();\n",
    "   public void sleep();\n",
    "}"
   ]
  },
  {
   "cell_type": "markdown",
   "metadata": {},
   "source": [
    "## Implementing an interface"
   ]
  },
  {
   "cell_type": "code",
   "execution_count": 22,
   "metadata": {},
   "outputs": [
    {
     "data": {
      "text/plain": [
       "animals.Dog"
      ]
     },
     "execution_count": 22,
     "metadata": {},
     "output_type": "execute_result"
    }
   ],
   "source": [
    "package animals;\n",
    "\n",
    "public class Dog implements Animal {\n",
    "  \n",
    "    public void eat(){\n",
    "       \n",
    "    }\n",
    "\n",
    "    public void sleep(){\n",
    "       \n",
    "    }\n",
    "    \n",
    "    public String bark(){\n",
    "           return \"au!! au!!\";\n",
    "    }\n",
    "}"
   ]
  },
  {
   "cell_type": "code",
<<<<<<< HEAD
   "execution_count": 7,
   "metadata": {},
   "outputs": [
    {
     "data": {
      "text/plain": [
       "com.twosigma.beaker.javash.bkrc11eecd9.dog"
      ]
     },
     "execution_count": 7,
=======
   "execution_count": 36,
   "metadata": {},
   "outputs": [
    {
     "name": "stdout",
     "output_type": "stream",
     "text": [
      "au!! au!!\n"
     ]
    },
    {
     "data": {
      "text/plain": []
     },
     "execution_count": 36,
>>>>>>> b84262a6f2196414d0106591e8b71fb4181155cc
     "metadata": {},
     "output_type": "execute_result"
    }
   ],
   "source": [
    "Dog dog = new Dog();\n",
    "\n",
    "System.out.println(dog.bark());\n",
    "\n",
    "return \"\";"
   ]
  },
  {
   "cell_type": "code",
   "execution_count": 40,
   "metadata": {},
   "outputs": [
    {
     "data": {
      "text/plain": [
       "au!! au!!"
      ]
     },
     "execution_count": 40,
     "metadata": {},
     "output_type": "execute_result"
    }
   ],
   "source": [
    "Dog dog = new Dog();\n",
    "\n",
    "return dog.bark();"
   ]
  },
  {
   "cell_type": "markdown",
   "metadata": {},
   "source": [
    "![title](https://www.gliffy.com/hs-fs/hubfs/Imported_Blog_Media/UML-Object-1.png)"
   ]
  },
  {
   "cell_type": "code",
   "execution_count": 31,
   "metadata": {},
   "outputs": [
    {
     "data": {
      "text/plain": [
       "com.twosigma.beaker.javash.bkr63ab2b55.Main"
      ]
     },
     "execution_count": 31,
     "metadata": {},
     "output_type": "execute_result"
    }
   ],
   "source": [
    "public class Main {\n",
    "    \n",
    " public static void main(String[] args) {\n",
    "        System.out.println(\"Hello World!\"); // Display the string.\n",
    "    }    \n",
    "}\n",
    "\n"
   ]
  },
  {
   "cell_type": "code",
<<<<<<< HEAD
=======
   "execution_count": 35,
   "metadata": {},
   "outputs": [
    {
     "name": "stdout",
     "output_type": "stream",
     "text": [
      "Hello World!\n"
     ]
    },
    {
     "data": {
      "text/plain": []
     },
     "execution_count": 35,
     "metadata": {},
     "output_type": "execute_result"
    }
   ],
   "source": [
    "Main.main(new String[10]);\n",
    "\n",
    "return \"\";\n"
   ]
  },
  {
   "cell_type": "code",
   "execution_count": null,
   "metadata": {},
   "outputs": [],
   "source": []
  },
  {
   "cell_type": "code",
>>>>>>> b84262a6f2196414d0106591e8b71fb4181155cc
   "execution_count": null,
   "metadata": {},
   "outputs": [],
   "source": []
  }
 ],
 "metadata": {
  "kernelspec": {
   "display_name": "Java",
   "language": "java",
   "name": "java"
  },
  "language_info": {
   "codemirror_mode": "text/x-java",
   "file_extension": ".java",
   "mimetype": "",
   "name": "Java",
   "nbconverter_exporter": "",
   "version": "1.8.0_171"
  }
 },
 "nbformat": 4,
 "nbformat_minor": 2
}
